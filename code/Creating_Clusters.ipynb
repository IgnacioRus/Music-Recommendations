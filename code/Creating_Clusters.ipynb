{
 "cells": [
  {
   "cell_type": "code",
   "execution_count": 102,
   "metadata": {
    "ExecuteTime": {
     "end_time": "2021-04-08T19:04:54.749751Z",
     "start_time": "2021-04-08T19:04:54.728150Z"
    }
   },
   "outputs": [],
   "source": [
    "import pandas as pd\n",
    "import numpy as np\n",
    "import requests\n",
    "from sklearn.preprocessing import StandardScaler\n",
    "from sklearn.cluster import KMeans\n",
    "from sklearn.metrics import silhouette_score\n",
    "import pickle"
   ]
  },
  {
   "cell_type": "code",
   "execution_count": 106,
   "metadata": {
    "ExecuteTime": {
     "end_time": "2021-04-08T19:10:28.465994Z",
     "start_time": "2021-04-08T19:10:28.317688Z"
    }
   },
   "outputs": [
    {
     "data": {
      "text/html": [
       "<div>\n",
       "<style scoped>\n",
       "    .dataframe tbody tr th:only-of-type {\n",
       "        vertical-align: middle;\n",
       "    }\n",
       "\n",
       "    .dataframe tbody tr th {\n",
       "        vertical-align: top;\n",
       "    }\n",
       "\n",
       "    .dataframe thead th {\n",
       "        text-align: right;\n",
       "    }\n",
       "</style>\n",
       "<table border=\"1\" class=\"dataframe\">\n",
       "  <thead>\n",
       "    <tr style=\"text-align: right;\">\n",
       "      <th></th>\n",
       "      <th>danceability</th>\n",
       "      <th>energy</th>\n",
       "      <th>loudness</th>\n",
       "      <th>speechiness</th>\n",
       "      <th>acousticness</th>\n",
       "      <th>instrumentalness</th>\n",
       "      <th>liveness</th>\n",
       "      <th>valence</th>\n",
       "      <th>tempo</th>\n",
       "    </tr>\n",
       "  </thead>\n",
       "  <tbody>\n",
       "    <tr>\n",
       "      <th>0</th>\n",
       "      <td>0.349</td>\n",
       "      <td>0.482</td>\n",
       "      <td>-10.482</td>\n",
       "      <td>0.0435</td>\n",
       "      <td>0.7780</td>\n",
       "      <td>0.001200</td>\n",
       "      <td>0.1210</td>\n",
       "      <td>0.526</td>\n",
       "      <td>86.027</td>\n",
       "    </tr>\n",
       "    <tr>\n",
       "      <th>1</th>\n",
       "      <td>0.559</td>\n",
       "      <td>0.163</td>\n",
       "      <td>-17.332</td>\n",
       "      <td>0.0504</td>\n",
       "      <td>0.8820</td>\n",
       "      <td>0.000016</td>\n",
       "      <td>0.1610</td>\n",
       "      <td>0.559</td>\n",
       "      <td>126.028</td>\n",
       "    </tr>\n",
       "    <tr>\n",
       "      <th>2</th>\n",
       "      <td>0.743</td>\n",
       "      <td>0.485</td>\n",
       "      <td>-9.604</td>\n",
       "      <td>0.0452</td>\n",
       "      <td>0.8210</td>\n",
       "      <td>0.000000</td>\n",
       "      <td>0.0817</td>\n",
       "      <td>0.512</td>\n",
       "      <td>101.975</td>\n",
       "    </tr>\n",
       "    <tr>\n",
       "      <th>3</th>\n",
       "      <td>0.557</td>\n",
       "      <td>0.486</td>\n",
       "      <td>-10.366</td>\n",
       "      <td>0.0978</td>\n",
       "      <td>0.4180</td>\n",
       "      <td>0.000000</td>\n",
       "      <td>0.2450</td>\n",
       "      <td>0.685</td>\n",
       "      <td>152.593</td>\n",
       "    </tr>\n",
       "    <tr>\n",
       "      <th>4</th>\n",
       "      <td>0.740</td>\n",
       "      <td>0.581</td>\n",
       "      <td>-6.466</td>\n",
       "      <td>0.0362</td>\n",
       "      <td>0.6590</td>\n",
       "      <td>0.068900</td>\n",
       "      <td>0.1990</td>\n",
       "      <td>0.969</td>\n",
       "      <td>103.429</td>\n",
       "    </tr>\n",
       "    <tr>\n",
       "      <th>...</th>\n",
       "      <td>...</td>\n",
       "      <td>...</td>\n",
       "      <td>...</td>\n",
       "      <td>...</td>\n",
       "      <td>...</td>\n",
       "      <td>...</td>\n",
       "      <td>...</td>\n",
       "      <td>...</td>\n",
       "      <td>...</td>\n",
       "    </tr>\n",
       "    <tr>\n",
       "      <th>27101</th>\n",
       "      <td>0.575</td>\n",
       "      <td>0.670</td>\n",
       "      <td>-10.390</td>\n",
       "      <td>0.0318</td>\n",
       "      <td>0.3430</td>\n",
       "      <td>0.000005</td>\n",
       "      <td>0.1290</td>\n",
       "      <td>0.740</td>\n",
       "      <td>139.191</td>\n",
       "    </tr>\n",
       "    <tr>\n",
       "      <th>27102</th>\n",
       "      <td>0.629</td>\n",
       "      <td>0.864</td>\n",
       "      <td>-7.561</td>\n",
       "      <td>0.0340</td>\n",
       "      <td>0.1120</td>\n",
       "      <td>0.247000</td>\n",
       "      <td>0.6480</td>\n",
       "      <td>0.958</td>\n",
       "      <td>123.325</td>\n",
       "    </tr>\n",
       "    <tr>\n",
       "      <th>27103</th>\n",
       "      <td>0.699</td>\n",
       "      <td>0.467</td>\n",
       "      <td>-8.578</td>\n",
       "      <td>0.0375</td>\n",
       "      <td>0.6850</td>\n",
       "      <td>0.000000</td>\n",
       "      <td>0.3150</td>\n",
       "      <td>0.764</td>\n",
       "      <td>119.287</td>\n",
       "    </tr>\n",
       "    <tr>\n",
       "      <th>27104</th>\n",
       "      <td>0.656</td>\n",
       "      <td>0.601</td>\n",
       "      <td>-7.734</td>\n",
       "      <td>0.0389</td>\n",
       "      <td>0.0553</td>\n",
       "      <td>0.066700</td>\n",
       "      <td>0.0974</td>\n",
       "      <td>0.576</td>\n",
       "      <td>117.296</td>\n",
       "    </tr>\n",
       "    <tr>\n",
       "      <th>27105</th>\n",
       "      <td>0.537</td>\n",
       "      <td>0.700</td>\n",
       "      <td>-6.852</td>\n",
       "      <td>0.0366</td>\n",
       "      <td>0.1420</td>\n",
       "      <td>0.000002</td>\n",
       "      <td>0.3830</td>\n",
       "      <td>0.695</td>\n",
       "      <td>117.111</td>\n",
       "    </tr>\n",
       "  </tbody>\n",
       "</table>\n",
       "<p>27106 rows × 9 columns</p>\n",
       "</div>"
      ],
      "text/plain": [
       "       danceability  energy  loudness  speechiness  acousticness  \\\n",
       "0             0.349   0.482   -10.482       0.0435        0.7780   \n",
       "1             0.559   0.163   -17.332       0.0504        0.8820   \n",
       "2             0.743   0.485    -9.604       0.0452        0.8210   \n",
       "3             0.557   0.486   -10.366       0.0978        0.4180   \n",
       "4             0.740   0.581    -6.466       0.0362        0.6590   \n",
       "...             ...     ...       ...          ...           ...   \n",
       "27101         0.575   0.670   -10.390       0.0318        0.3430   \n",
       "27102         0.629   0.864    -7.561       0.0340        0.1120   \n",
       "27103         0.699   0.467    -8.578       0.0375        0.6850   \n",
       "27104         0.656   0.601    -7.734       0.0389        0.0553   \n",
       "27105         0.537   0.700    -6.852       0.0366        0.1420   \n",
       "\n",
       "       instrumentalness  liveness  valence    tempo  \n",
       "0              0.001200    0.1210    0.526   86.027  \n",
       "1              0.000016    0.1610    0.559  126.028  \n",
       "2              0.000000    0.0817    0.512  101.975  \n",
       "3              0.000000    0.2450    0.685  152.593  \n",
       "4              0.068900    0.1990    0.969  103.429  \n",
       "...                 ...       ...      ...      ...  \n",
       "27101          0.000005    0.1290    0.740  139.191  \n",
       "27102          0.247000    0.6480    0.958  123.325  \n",
       "27103          0.000000    0.3150    0.764  119.287  \n",
       "27104          0.066700    0.0974    0.576  117.296  \n",
       "27105          0.000002    0.3830    0.695  117.111  \n",
       "\n",
       "[27106 rows x 9 columns]"
      ]
     },
     "execution_count": 106,
     "metadata": {},
     "output_type": "execute_result"
    }
   ],
   "source": [
    "database = pd.read_csv('../data/song_database.csv')\n",
    "\n",
    "audio_feat = database.drop(columns=['artist','song','uri','duration_ms'])\n",
    "\n",
    "audio_feat"
   ]
  },
  {
   "cell_type": "code",
   "execution_count": 107,
   "metadata": {
    "ExecuteTime": {
     "end_time": "2021-04-08T19:10:33.104189Z",
     "start_time": "2021-04-08T19:10:33.070619Z"
    }
   },
   "outputs": [
    {
     "data": {
      "text/html": [
       "<div>\n",
       "<style scoped>\n",
       "    .dataframe tbody tr th:only-of-type {\n",
       "        vertical-align: middle;\n",
       "    }\n",
       "\n",
       "    .dataframe tbody tr th {\n",
       "        vertical-align: top;\n",
       "    }\n",
       "\n",
       "    .dataframe thead th {\n",
       "        text-align: right;\n",
       "    }\n",
       "</style>\n",
       "<table border=\"1\" class=\"dataframe\">\n",
       "  <thead>\n",
       "    <tr style=\"text-align: right;\">\n",
       "      <th></th>\n",
       "      <th>danceability</th>\n",
       "      <th>energy</th>\n",
       "      <th>loudness</th>\n",
       "      <th>speechiness</th>\n",
       "      <th>acousticness</th>\n",
       "      <th>instrumentalness</th>\n",
       "      <th>liveness</th>\n",
       "      <th>valence</th>\n",
       "      <th>tempo</th>\n",
       "    </tr>\n",
       "  </thead>\n",
       "  <tbody>\n",
       "    <tr>\n",
       "      <th>0</th>\n",
       "      <td>-1.657061</td>\n",
       "      <td>-1.021082</td>\n",
       "      <td>-0.878527</td>\n",
       "      <td>-0.487640</td>\n",
       "      <td>2.064011</td>\n",
       "      <td>-0.548555</td>\n",
       "      <td>-0.496054</td>\n",
       "      <td>0.262223</td>\n",
       "      <td>-1.477809</td>\n",
       "    </tr>\n",
       "    <tr>\n",
       "      <th>1</th>\n",
       "      <td>-0.228030</td>\n",
       "      <td>-2.439363</td>\n",
       "      <td>-2.602632</td>\n",
       "      <td>-0.407951</td>\n",
       "      <td>2.436943</td>\n",
       "      <td>-0.552464</td>\n",
       "      <td>-0.274432</td>\n",
       "      <td>0.392800</td>\n",
       "      <td>0.079061</td>\n",
       "    </tr>\n",
       "    <tr>\n",
       "      <th>2</th>\n",
       "      <td>1.024073</td>\n",
       "      <td>-1.007744</td>\n",
       "      <td>-0.657540</td>\n",
       "      <td>-0.468006</td>\n",
       "      <td>2.218204</td>\n",
       "      <td>-0.552519</td>\n",
       "      <td>-0.713797</td>\n",
       "      <td>0.206826</td>\n",
       "      <td>-0.857100</td>\n",
       "    </tr>\n",
       "    <tr>\n",
       "      <th>3</th>\n",
       "      <td>-0.241640</td>\n",
       "      <td>-1.003298</td>\n",
       "      <td>-0.849331</td>\n",
       "      <td>0.139473</td>\n",
       "      <td>0.773092</td>\n",
       "      <td>-0.552519</td>\n",
       "      <td>0.190972</td>\n",
       "      <td>0.891370</td>\n",
       "      <td>1.112992</td>\n",
       "    </tr>\n",
       "    <tr>\n",
       "      <th>4</th>\n",
       "      <td>1.003658</td>\n",
       "      <td>-0.580925</td>\n",
       "      <td>0.132277</td>\n",
       "      <td>-0.571948</td>\n",
       "      <td>1.637290</td>\n",
       "      <td>-0.324930</td>\n",
       "      <td>-0.063892</td>\n",
       "      <td>2.015128</td>\n",
       "      <td>-0.800509</td>\n",
       "    </tr>\n",
       "    <tr>\n",
       "      <th>...</th>\n",
       "      <td>...</td>\n",
       "      <td>...</td>\n",
       "      <td>...</td>\n",
       "      <td>...</td>\n",
       "      <td>...</td>\n",
       "      <td>...</td>\n",
       "      <td>...</td>\n",
       "      <td>...</td>\n",
       "      <td>...</td>\n",
       "    </tr>\n",
       "    <tr>\n",
       "      <th>27101</th>\n",
       "      <td>-0.119152</td>\n",
       "      <td>-0.185229</td>\n",
       "      <td>-0.855371</td>\n",
       "      <td>-0.622764</td>\n",
       "      <td>0.504150</td>\n",
       "      <td>-0.552502</td>\n",
       "      <td>-0.451729</td>\n",
       "      <td>1.108999</td>\n",
       "      <td>0.591376</td>\n",
       "    </tr>\n",
       "    <tr>\n",
       "      <th>27102</th>\n",
       "      <td>0.248313</td>\n",
       "      <td>0.677299</td>\n",
       "      <td>-0.143328</td>\n",
       "      <td>-0.597356</td>\n",
       "      <td>-0.324189</td>\n",
       "      <td>0.263365</td>\n",
       "      <td>2.423807</td>\n",
       "      <td>1.971603</td>\n",
       "      <td>-0.026141</td>\n",
       "    </tr>\n",
       "    <tr>\n",
       "      <th>27103</th>\n",
       "      <td>0.724657</td>\n",
       "      <td>-1.087772</td>\n",
       "      <td>-0.399301</td>\n",
       "      <td>-0.556934</td>\n",
       "      <td>1.730523</td>\n",
       "      <td>-0.552519</td>\n",
       "      <td>0.578810</td>\n",
       "      <td>1.203964</td>\n",
       "      <td>-0.183304</td>\n",
       "    </tr>\n",
       "    <tr>\n",
       "      <th>27104</th>\n",
       "      <td>0.432046</td>\n",
       "      <td>-0.492005</td>\n",
       "      <td>-0.186871</td>\n",
       "      <td>-0.540765</td>\n",
       "      <td>-0.527509</td>\n",
       "      <td>-0.332197</td>\n",
       "      <td>-0.626810</td>\n",
       "      <td>0.460068</td>\n",
       "      <td>-0.260795</td>\n",
       "    </tr>\n",
       "    <tr>\n",
       "      <th>27105</th>\n",
       "      <td>-0.377738</td>\n",
       "      <td>-0.051849</td>\n",
       "      <td>0.035123</td>\n",
       "      <td>-0.567328</td>\n",
       "      <td>-0.216613</td>\n",
       "      <td>-0.552513</td>\n",
       "      <td>0.955566</td>\n",
       "      <td>0.930938</td>\n",
       "      <td>-0.267995</td>\n",
       "    </tr>\n",
       "  </tbody>\n",
       "</table>\n",
       "<p>27106 rows × 9 columns</p>\n",
       "</div>"
      ],
      "text/plain": [
       "       danceability    energy  loudness  speechiness  acousticness  \\\n",
       "0         -1.657061 -1.021082 -0.878527    -0.487640      2.064011   \n",
       "1         -0.228030 -2.439363 -2.602632    -0.407951      2.436943   \n",
       "2          1.024073 -1.007744 -0.657540    -0.468006      2.218204   \n",
       "3         -0.241640 -1.003298 -0.849331     0.139473      0.773092   \n",
       "4          1.003658 -0.580925  0.132277    -0.571948      1.637290   \n",
       "...             ...       ...       ...          ...           ...   \n",
       "27101     -0.119152 -0.185229 -0.855371    -0.622764      0.504150   \n",
       "27102      0.248313  0.677299 -0.143328    -0.597356     -0.324189   \n",
       "27103      0.724657 -1.087772 -0.399301    -0.556934      1.730523   \n",
       "27104      0.432046 -0.492005 -0.186871    -0.540765     -0.527509   \n",
       "27105     -0.377738 -0.051849  0.035123    -0.567328     -0.216613   \n",
       "\n",
       "       instrumentalness  liveness   valence     tempo  \n",
       "0             -0.548555 -0.496054  0.262223 -1.477809  \n",
       "1             -0.552464 -0.274432  0.392800  0.079061  \n",
       "2             -0.552519 -0.713797  0.206826 -0.857100  \n",
       "3             -0.552519  0.190972  0.891370  1.112992  \n",
       "4             -0.324930 -0.063892  2.015128 -0.800509  \n",
       "...                 ...       ...       ...       ...  \n",
       "27101         -0.552502 -0.451729  1.108999  0.591376  \n",
       "27102          0.263365  2.423807  1.971603 -0.026141  \n",
       "27103         -0.552519  0.578810  1.203964 -0.183304  \n",
       "27104         -0.332197 -0.626810  0.460068 -0.260795  \n",
       "27105         -0.552513  0.955566  0.930938 -0.267995  \n",
       "\n",
       "[27106 rows x 9 columns]"
      ]
     },
     "execution_count": 107,
     "metadata": {},
     "output_type": "execute_result"
    }
   ],
   "source": [
    "audio_scaled = StandardScaler().fit_transform(audio_feat)\n",
    "\n",
    "pd.DataFrame(audio_scaled,columns=audio_feat.columns)"
   ]
  },
  {
   "cell_type": "markdown",
   "metadata": {},
   "source": [
    "### Choosing K with Elbow Method and Silhouette"
   ]
  },
  {
   "cell_type": "code",
   "execution_count": 114,
   "metadata": {
    "ExecuteTime": {
     "end_time": "2021-04-08T19:17:22.999754Z",
     "start_time": "2021-04-08T19:12:37.088104Z"
    }
   },
   "outputs": [],
   "source": [
    "K = range(20, 40)\n",
    "\n",
    "inertia = []\n",
    "silhouette = []\n",
    "\n",
    "for k in K:\n",
    "    \n",
    "    kmeans = KMeans(n_clusters=k,n_init=10,max_iter=20,random_state=1234)\n",
    "    \n",
    "    kmeans.fit(audio_scaled)\n",
    "    \n",
    "    inertia.append(kmeans.inertia_)\n",
    "    silhouette.append(silhouette_score(audio_scaled, kmeans.predict(audio_scaled)))\n",
    "    \n",
    "import matplotlib.pyplot as plt\n",
    "%matplotlib inline"
   ]
  },
  {
   "cell_type": "code",
   "execution_count": 115,
   "metadata": {
    "ExecuteTime": {
     "end_time": "2021-04-08T19:17:23.461602Z",
     "start_time": "2021-04-08T19:17:23.045002Z"
    }
   },
   "outputs": [
    {
     "data": {
      "text/plain": [
       "Text(0.5, 1.0, 'Elbow Method showing the optimal k')"
      ]
     },
     "execution_count": 115,
     "metadata": {},
     "output_type": "execute_result"
    },
    {
     "data": {
      "image/png": "[encoded data removed]",
      "text/plain": [
       "<Figure size 1152x576 with 1 Axes>"
      ]
     },
     "metadata": {
      "needs_background": "light"
     },
     "output_type": "display_data"
    }
   ],
   "source": [
    "plt.figure(figsize=(16,8))\n",
    "plt.plot(K, inertia, 'bx-')\n",
    "plt.xlabel('k')\n",
    "plt.ylabel('inertia')\n",
    "plt.xticks(np.arange(min(K), max(K)+1, 1.0))\n",
    "plt.title('Elbow Method showing the optimal k')"
   ]
  },
  {
   "cell_type": "code",
   "execution_count": 116,
   "metadata": {
    "ExecuteTime": {
     "end_time": "2021-04-08T19:17:23.729002Z",
     "start_time": "2021-04-08T19:17:23.515539Z"
    }
   },
   "outputs": [
    {
     "data": {
      "text/plain": [
       "Text(0.5, 1.0, 'Elbow Method showing the optimal k')"
      ]
     },
     "execution_count": 116,
     "metadata": {},
     "output_type": "execute_result"
    },
    {
     "data": {
      "image/png": "[encoded data removed]",
      "text/plain": [
       "<Figure size 1152x576 with 1 Axes>"
      ]
     },
     "metadata": {
      "needs_background": "light"
     },
     "output_type": "display_data"
    }
   ],
   "source": [
    "plt.figure(figsize=(16,8))\n",
    "plt.plot(K[5:], inertia[5:], 'bx-')\n",
    "plt.xlabel('k')\n",
    "plt.ylabel('inertia')\n",
    "plt.xticks(np.arange(K[5], max(K)+1, 1.0))\n",
    "plt.title('Elbow Method showing the optimal k')"
   ]
  },
  {
   "cell_type": "code",
   "execution_count": 117,
   "metadata": {
    "ExecuteTime": {
     "end_time": "2021-04-08T19:17:24.107938Z",
     "start_time": "2021-04-08T19:17:23.766872Z"
    }
   },
   "outputs": [
    {
     "data": {
      "text/plain": [
       "Text(0.5, 1.0, 'Silhouette Method showing the optimal k')"
      ]
     },
     "execution_count": 117,
     "metadata": {},
     "output_type": "execute_result"
    },
    {
     "data": {
      "image/png": "[encoded data removed]",
      "text/plain": [
       "<Figure size 1152x576 with 1 Axes>"
      ]
     },
     "metadata": {
      "needs_background": "light"
     },
     "output_type": "display_data"
    }
   ],
   "source": [
    "plt.figure(figsize=(16,8))\n",
    "plt.plot(K, silhouette, 'bx-')\n",
    "plt.xlabel('k')\n",
    "plt.ylabel('silhouette score')\n",
    "plt.xticks(np.arange(min(K), max(K)+1, 1.0))\n",
    "plt.title('Silhouette Method showing the optimal k')"
   ]
  },
  {
   "cell_type": "code",
   "execution_count": 118,
   "metadata": {
    "ExecuteTime": {
     "end_time": "2021-04-08T19:17:24.354394Z",
     "start_time": "2021-04-08T19:17:24.154470Z"
    }
   },
   "outputs": [
    {
     "data": {
      "text/plain": [
       "Text(0.5, 1.0, 'Silhouette Method showing the optimal k')"
      ]
     },
     "execution_count": 118,
     "metadata": {},
     "output_type": "execute_result"
    },
    {
     "data": {
      "image/png": "[encoded data removed]",
      "text/plain": [
       "<Figure size 1152x576 with 1 Axes>"
      ]
     },
     "metadata": {
      "needs_background": "light"
     },
     "output_type": "display_data"
    }
   ],
   "source": [
    "plt.figure(figsize=(16,8))\n",
    "plt.plot(K[10:], silhouette[10:], 'bx-')\n",
    "plt.xlabel('k')\n",
    "plt.ylabel('silhouette score')\n",
    "plt.xticks(np.arange(K[10], max(K)+1, 1.0))\n",
    "plt.title('Silhouette Method showing the optimal k')"
   ]
  },
  {
   "cell_type": "markdown",
   "metadata": {},
   "source": [
    "### Clustering"
   ]
  },
  {
   "cell_type": "code",
   "execution_count": 119,
   "metadata": {
    "ExecuteTime": {
     "end_time": "2021-04-08T19:21:46.879353Z",
     "start_time": "2021-04-08T19:21:34.558133Z"
    }
   },
   "outputs": [
    {
     "data": {
      "text/plain": [
       "KMeans(max_iter=200, n_clusters=30, n_init=20, random_state=1234)"
      ]
     },
     "execution_count": 119,
     "metadata": {},
     "output_type": "execute_result"
    }
   ],
   "source": [
    "kmeans_final = KMeans(n_clusters=30,n_init=20,max_iter=200,random_state=1234)\n",
    "\n",
    "kmeans_final.fit(audio_scaled)"
   ]
  },
  {
   "cell_type": "code",
   "execution_count": 120,
   "metadata": {
    "ExecuteTime": {
     "end_time": "2021-04-08T19:21:49.038182Z",
     "start_time": "2021-04-08T19:21:49.031338Z"
    }
   },
   "outputs": [],
   "source": [
    "with open(\"../data/scaler.pickle\", \"wb\") as f:\n",
    "    pickle.dump(kmeans_final,f)"
   ]
  },
  {
   "cell_type": "code",
   "execution_count": 121,
   "metadata": {
    "ExecuteTime": {
     "end_time": "2021-04-08T19:21:50.457130Z",
     "start_time": "2021-04-08T19:21:50.440008Z"
    }
   },
   "outputs": [
    {
     "data": {
      "text/plain": [
       "0     1245\n",
       "1     1016\n",
       "2      752\n",
       "3     1598\n",
       "4     1355\n",
       "5      622\n",
       "6     1372\n",
       "7      943\n",
       "8      632\n",
       "9      562\n",
       "10     388\n",
       "11    1810\n",
       "12    1917\n",
       "13     910\n",
       "14     536\n",
       "15     738\n",
       "16     962\n",
       "17     744\n",
       "18    1177\n",
       "19     974\n",
       "20     617\n",
       "21    1428\n",
       "22     987\n",
       "23     205\n",
       "24    1070\n",
       "25     651\n",
       "26     261\n",
       "27     594\n",
       "28     826\n",
       "29     214\n",
       "dtype: int64"
      ]
     },
     "execution_count": 121,
     "metadata": {},
     "output_type": "execute_result"
    }
   ],
   "source": [
    "clusters = kmeans_final.predict(audio_scaled)\n",
    "pd.Series(clusters).value_counts().sort_index()"
   ]
  },
  {
   "cell_type": "code",
   "execution_count": 122,
   "metadata": {
    "ExecuteTime": {
     "end_time": "2021-04-08T19:22:00.048152Z",
     "start_time": "2021-04-08T19:21:59.594480Z"
    }
   },
   "outputs": [
    {
     "data": {
      "text/html": [
       "<div>\n",
       "<style scoped>\n",
       "    .dataframe tbody tr th:only-of-type {\n",
       "        vertical-align: middle;\n",
       "    }\n",
       "\n",
       "    .dataframe tbody tr th {\n",
       "        vertical-align: top;\n",
       "    }\n",
       "\n",
       "    .dataframe thead th {\n",
       "        text-align: right;\n",
       "    }\n",
       "</style>\n",
       "<table border=\"1\" class=\"dataframe\">\n",
       "  <thead>\n",
       "    <tr style=\"text-align: right;\">\n",
       "      <th></th>\n",
       "      <th>song</th>\n",
       "      <th>artist</th>\n",
       "      <th>uri</th>\n",
       "      <th>danceability</th>\n",
       "      <th>energy</th>\n",
       "      <th>loudness</th>\n",
       "      <th>speechiness</th>\n",
       "      <th>acousticness</th>\n",
       "      <th>instrumentalness</th>\n",
       "      <th>liveness</th>\n",
       "      <th>valence</th>\n",
       "      <th>tempo</th>\n",
       "      <th>duration_ms</th>\n",
       "      <th>cluster</th>\n",
       "    </tr>\n",
       "  </thead>\n",
       "  <tbody>\n",
       "    <tr>\n",
       "      <th>29</th>\n",
       "      <td>Atraente</td>\n",
       "      <td>Luis Otávio, Mallu Magalhães</td>\n",
       "      <td>spotify:track:22QtqOOwAShcEEYgEcQvki</td>\n",
       "      <td>0.755</td>\n",
       "      <td>0.503</td>\n",
       "      <td>-10.402</td>\n",
       "      <td>0.1520</td>\n",
       "      <td>0.25200</td>\n",
       "      <td>0.000010</td>\n",
       "      <td>0.0916</td>\n",
       "      <td>0.492</td>\n",
       "      <td>90.256</td>\n",
       "      <td>144169</td>\n",
       "      <td>4</td>\n",
       "    </tr>\n",
       "    <tr>\n",
       "      <th>32</th>\n",
       "      <td>Boa Sorte / Good Luck (feat. Ben Harper)</td>\n",
       "      <td>Vanessa Da Mata, Ben Harper</td>\n",
       "      <td>spotify:track:6A3Q8BVAAI2PW1s6MX4ZGF</td>\n",
       "      <td>0.780</td>\n",
       "      <td>0.566</td>\n",
       "      <td>-9.289</td>\n",
       "      <td>0.0500</td>\n",
       "      <td>0.32300</td>\n",
       "      <td>0.000463</td>\n",
       "      <td>0.0814</td>\n",
       "      <td>0.281</td>\n",
       "      <td>111.019</td>\n",
       "      <td>235600</td>\n",
       "      <td>4</td>\n",
       "    </tr>\n",
       "    <tr>\n",
       "      <th>127</th>\n",
       "      <td>Sei Lá</td>\n",
       "      <td>Luê</td>\n",
       "      <td>spotify:track:41IwizU26KiLMZONRvJfar</td>\n",
       "      <td>0.768</td>\n",
       "      <td>0.589</td>\n",
       "      <td>-6.719</td>\n",
       "      <td>0.0300</td>\n",
       "      <td>0.02310</td>\n",
       "      <td>0.000000</td>\n",
       "      <td>0.0957</td>\n",
       "      <td>0.459</td>\n",
       "      <td>103.987</td>\n",
       "      <td>231573</td>\n",
       "      <td>4</td>\n",
       "    </tr>\n",
       "    <tr>\n",
       "      <th>194</th>\n",
       "      <td>Pupila</td>\n",
       "      <td>ANAVITÓRIA, Vitor Kley</td>\n",
       "      <td>spotify:track:7Gk5OrMYaMRtT2JmgJVAfk</td>\n",
       "      <td>0.716</td>\n",
       "      <td>0.426</td>\n",
       "      <td>-9.576</td>\n",
       "      <td>0.1280</td>\n",
       "      <td>0.40100</td>\n",
       "      <td>0.000000</td>\n",
       "      <td>0.1100</td>\n",
       "      <td>0.434</td>\n",
       "      <td>88.794</td>\n",
       "      <td>202288</td>\n",
       "      <td>4</td>\n",
       "    </tr>\n",
       "    <tr>\n",
       "      <th>196</th>\n",
       "      <td>Pausa #omundoprecisadepausa</td>\n",
       "      <td>Vicka</td>\n",
       "      <td>spotify:track:14t2jBUMu8OdZyQJQKIf25</td>\n",
       "      <td>0.708</td>\n",
       "      <td>0.553</td>\n",
       "      <td>-7.428</td>\n",
       "      <td>0.0277</td>\n",
       "      <td>0.15300</td>\n",
       "      <td>0.000000</td>\n",
       "      <td>0.1140</td>\n",
       "      <td>0.522</td>\n",
       "      <td>121.995</td>\n",
       "      <td>199500</td>\n",
       "      <td>4</td>\n",
       "    </tr>\n",
       "    <tr>\n",
       "      <th>...</th>\n",
       "      <td>...</td>\n",
       "      <td>...</td>\n",
       "      <td>...</td>\n",
       "      <td>...</td>\n",
       "      <td>...</td>\n",
       "      <td>...</td>\n",
       "      <td>...</td>\n",
       "      <td>...</td>\n",
       "      <td>...</td>\n",
       "      <td>...</td>\n",
       "      <td>...</td>\n",
       "      <td>...</td>\n",
       "      <td>...</td>\n",
       "      <td>...</td>\n",
       "    </tr>\n",
       "    <tr>\n",
       "      <th>27024</th>\n",
       "      <td>Phantom Pain</td>\n",
       "      <td>Isa</td>\n",
       "      <td>spotify:track:0ylqUnebv7q7hArXK7HGdS</td>\n",
       "      <td>0.729</td>\n",
       "      <td>0.350</td>\n",
       "      <td>-10.088</td>\n",
       "      <td>0.0413</td>\n",
       "      <td>0.21300</td>\n",
       "      <td>0.000000</td>\n",
       "      <td>0.0835</td>\n",
       "      <td>0.120</td>\n",
       "      <td>110.122</td>\n",
       "      <td>257000</td>\n",
       "      <td>4</td>\n",
       "    </tr>\n",
       "    <tr>\n",
       "      <th>27034</th>\n",
       "      <td>Hit Your Town</td>\n",
       "      <td>Lulu Lewis</td>\n",
       "      <td>spotify:track:3bBAfLcADF3ET2r7Qp0i8i</td>\n",
       "      <td>0.743</td>\n",
       "      <td>0.805</td>\n",
       "      <td>-7.448</td>\n",
       "      <td>0.0300</td>\n",
       "      <td>0.00408</td>\n",
       "      <td>0.118000</td>\n",
       "      <td>0.1030</td>\n",
       "      <td>0.388</td>\n",
       "      <td>119.954</td>\n",
       "      <td>214320</td>\n",
       "      <td>4</td>\n",
       "    </tr>\n",
       "    <tr>\n",
       "      <th>27035</th>\n",
       "      <td>Hiding Home</td>\n",
       "      <td>Nouhi's Nomad</td>\n",
       "      <td>spotify:track:41SDofPSFLdgIt8mpMmhHQ</td>\n",
       "      <td>0.697</td>\n",
       "      <td>0.596</td>\n",
       "      <td>-7.459</td>\n",
       "      <td>0.0377</td>\n",
       "      <td>0.08480</td>\n",
       "      <td>0.000001</td>\n",
       "      <td>0.2790</td>\n",
       "      <td>0.325</td>\n",
       "      <td>86.059</td>\n",
       "      <td>236544</td>\n",
       "      <td>4</td>\n",
       "    </tr>\n",
       "    <tr>\n",
       "      <th>27064</th>\n",
       "      <td>Living Strange</td>\n",
       "      <td>Wes King</td>\n",
       "      <td>spotify:track:5CPRCMQTc3Fl2IAQHDmVGR</td>\n",
       "      <td>0.681</td>\n",
       "      <td>0.572</td>\n",
       "      <td>-6.376</td>\n",
       "      <td>0.0313</td>\n",
       "      <td>0.31000</td>\n",
       "      <td>0.000000</td>\n",
       "      <td>0.0813</td>\n",
       "      <td>0.528</td>\n",
       "      <td>128.004</td>\n",
       "      <td>216967</td>\n",
       "      <td>4</td>\n",
       "    </tr>\n",
       "    <tr>\n",
       "      <th>27104</th>\n",
       "      <td>Born On The Bayou</td>\n",
       "      <td>Creedence Clearwater Revival</td>\n",
       "      <td>spotify:track:1nE78lQ7ix7XNrjuzTE4Jz</td>\n",
       "      <td>0.656</td>\n",
       "      <td>0.601</td>\n",
       "      <td>-7.734</td>\n",
       "      <td>0.0389</td>\n",
       "      <td>0.05530</td>\n",
       "      <td>0.066700</td>\n",
       "      <td>0.0974</td>\n",
       "      <td>0.576</td>\n",
       "      <td>117.296</td>\n",
       "      <td>315200</td>\n",
       "      <td>4</td>\n",
       "    </tr>\n",
       "  </tbody>\n",
       "</table>\n",
       "<p>1355 rows × 14 columns</p>\n",
       "</div>"
      ],
      "text/plain": [
       "                                           song                        artist  \\\n",
       "29                                     Atraente  Luis Otávio, Mallu Magalhães   \n",
       "32     Boa Sorte / Good Luck (feat. Ben Harper)   Vanessa Da Mata, Ben Harper   \n",
       "127                                      Sei Lá                           Luê   \n",
       "194                                      Pupila        ANAVITÓRIA, Vitor Kley   \n",
       "196                 Pausa #omundoprecisadepausa                         Vicka   \n",
       "...                                         ...                           ...   \n",
       "27024                              Phantom Pain                           Isa   \n",
       "27034                             Hit Your Town                    Lulu Lewis   \n",
       "27035                               Hiding Home                 Nouhi's Nomad   \n",
       "27064                            Living Strange                      Wes King   \n",
       "27104                         Born On The Bayou  Creedence Clearwater Revival   \n",
       "\n",
       "                                        uri  danceability  energy  loudness  \\\n",
       "29     spotify:track:22QtqOOwAShcEEYgEcQvki         0.755   0.503   -10.402   \n",
       "32     spotify:track:6A3Q8BVAAI2PW1s6MX4ZGF         0.780   0.566    -9.289   \n",
       "127    spotify:track:41IwizU26KiLMZONRvJfar         0.768   0.589    -6.719   \n",
       "194    spotify:track:7Gk5OrMYaMRtT2JmgJVAfk         0.716   0.426    -9.576   \n",
       "196    spotify:track:14t2jBUMu8OdZyQJQKIf25         0.708   0.553    -7.428   \n",
       "...                                     ...           ...     ...       ...   \n",
       "27024  spotify:track:0ylqUnebv7q7hArXK7HGdS         0.729   0.350   -10.088   \n",
       "27034  spotify:track:3bBAfLcADF3ET2r7Qp0i8i         0.743   0.805    -7.448   \n",
       "27035  spotify:track:41SDofPSFLdgIt8mpMmhHQ         0.697   0.596    -7.459   \n",
       "27064  spotify:track:5CPRCMQTc3Fl2IAQHDmVGR         0.681   0.572    -6.376   \n",
       "27104  spotify:track:1nE78lQ7ix7XNrjuzTE4Jz         0.656   0.601    -7.734   \n",
       "\n",
       "       speechiness  acousticness  instrumentalness  liveness  valence  \\\n",
       "29          0.1520       0.25200          0.000010    0.0916    0.492   \n",
       "32          0.0500       0.32300          0.000463    0.0814    0.281   \n",
       "127         0.0300       0.02310          0.000000    0.0957    0.459   \n",
       "194         0.1280       0.40100          0.000000    0.1100    0.434   \n",
       "196         0.0277       0.15300          0.000000    0.1140    0.522   \n",
       "...            ...           ...               ...       ...      ...   \n",
       "27024       0.0413       0.21300          0.000000    0.0835    0.120   \n",
       "27034       0.0300       0.00408          0.118000    0.1030    0.388   \n",
       "27035       0.0377       0.08480          0.000001    0.2790    0.325   \n",
       "27064       0.0313       0.31000          0.000000    0.0813    0.528   \n",
       "27104       0.0389       0.05530          0.066700    0.0974    0.576   \n",
       "\n",
       "         tempo  duration_ms  cluster  \n",
       "29      90.256       144169        4  \n",
       "32     111.019       235600        4  \n",
       "127    103.987       231573        4  \n",
       "194     88.794       202288        4  \n",
       "196    121.995       199500        4  \n",
       "...        ...          ...      ...  \n",
       "27024  110.122       257000        4  \n",
       "27034  119.954       214320        4  \n",
       "27035   86.059       236544        4  \n",
       "27064  128.004       216967        4  \n",
       "27104  117.296       315200        4  \n",
       "\n",
       "[1355 rows x 14 columns]"
      ]
     },
     "execution_count": 122,
     "metadata": {},
     "output_type": "execute_result"
    }
   ],
   "source": [
    "new_database = database.copy()\n",
    "\n",
    "new_database['cluster'] = clusters\n",
    "\n",
    "new_database.to_csv('../data/clustered_database.csv',index=False)\n",
    "\n",
    "new_database.loc[new_database['cluster']==4]"
   ]
  }
 ],
 "metadata": {
  "kernelspec": {
   "display_name": "Python 3",
   "language": "python",
   "name": "python3"
  },
  "language_info": {
   "codemirror_mode": {
    "name": "ipython",
    "version": 3
   },
   "file_extension": ".py",
   "mimetype": "text/x-python",
   "name": "python",
   "nbconvert_exporter": "python",
   "pygments_lexer": "ipython3",
   "version": "3.8.5"
  },
  "latex_envs": {
   "LaTeX_envs_menu_present": true,
   "autoclose": false,
   "autocomplete": true,
   "bibliofile": "biblio.bib",
   "cite_by": "apalike",
   "current_citInitial": 1,
   "eqLabelWithNumbers": true,
   "eqNumInitial": 1,
   "hotkeys": {
    "equation": "Ctrl-E",
    "itemize": "Ctrl-I"
   },
   "labels_anchors": false,
   "latex_user_defs": false,
   "report_style_numbering": false,
   "user_envs_cfg": false
  },
  "varInspector": {
   "cols": {
    "lenName": 16,
    "lenType": 16,
    "lenVar": 40
   },
   "kernels_config": {
    "python": {
     "delete_cmd_postfix": "",
     "delete_cmd_prefix": "del ",
     "library": "var_list.py",
     "varRefreshCmd": "print(var_dic_list())"
    },
    "r": {
     "delete_cmd_postfix": ") ",
     "delete_cmd_prefix": "rm(",
     "library": "var_list.r",
     "varRefreshCmd": "cat(var_dic_list()) "
    }
   },
   "types_to_exclude": [
    "module",
    "function",
    "builtin_function_or_method",
    "instance",
    "_Feature"
   ],
   "window_display": false
  }
 },
 "nbformat": 4,
 "nbformat_minor": 4
}
