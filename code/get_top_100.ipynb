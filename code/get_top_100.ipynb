{
 "cells": [
  {
   "cell_type": "markdown",
   "metadata": {},
   "source": [
    "## Web Scraping Lab 1:\n",
    "\n",
    "\n",
    "### Prepare your project:\n",
    "\n",
    "#### Business goal:\n",
    "\n",
    "Make sure you've understood the big picture of your project: the goal of the company (Gnod), their current product (Gnoosic), their strategy, and how your project fits into this context. Re-read the business case and the e-mail from the CTO, take a look at the flowchart and create an initial Trello board with the tasks you think you'll have to acomplish.\n",
    "\n",
    "#### Scraping popular songs:\n",
    "\n",
    "Your product will take a song as an input from the user and will output another song (the recommendation). In most cases, the recommended song will have to be similar to the inputed song, but the CTO thinks that if the song is on the top charts at the moment, the user will enjoy more a recommendation of a song that's also popular at the moment.\n",
    "\n",
    "You have find data on the internet about currently popular songs. Billboard mantains a weekly Top 100 of \"hot\" songs here: https://www.billboard.com/charts/hot-100. \n",
    "\n",
    "It's a good place to start! Scrape the current top 100 songs and their respective artists, and put the information into a pandas dataframe."
   ]
  },
  {
   "cell_type": "code",
   "execution_count": 1,
   "metadata": {
    "ExecuteTime": {
     "end_time": "2021-04-08T19:35:10.320450Z",
     "start_time": "2021-04-08T19:35:10.314069Z"
    }
   },
   "outputs": [],
   "source": [
    "import requests\n",
    "from bs4 import BeautifulSoup\n",
    "import pandas as pd\n",
    "import numpy as np\n",
    "import re\n",
    "\n",
    "\n",
    "def update_top100():\n",
    "    \n",
    "    url = \"https://www.billboard.com/charts/hot-100\"\n",
    "    page = requests.get(url)\n",
    "    soup = BeautifulSoup(page.content,'html.parser')\n",
    "    \n",
    "    titles_gross = soup.select(\"span.chart-element__information__song\")\n",
    "    titles = []\n",
    "    for i in tget_topitles_gross:\n",
    "        titles.append(i.get_text())\n",
    "        \n",
    "    artists_gross = soup.select(\"span.chart-element__information__artist\")\n",
    "    artists = []\n",
    "    for i in artists_gross:\n",
    "        artists.append(i.get_text())\n",
    "        \n",
    "    top100 = pd.DataFrame({'Song':titles,'Artist':artists})\n",
    "    top100.to_csv('../data/top100songs.csv',index=False)\n",
    "    return"
   ]
  },
  {
   "cell_type": "markdown",
   "metadata": {},
   "source": [
    "### Bonus"
   ]
  },
  {
   "cell_type": "markdown",
   "metadata": {},
   "source": [
    "Can you find other websites with lists of \"hot\" songs? What about songs that were popular on a certain decade? \n",
    "\n",
    "You can scrape more lists and add extra features to the project."
   ]
  },
  {
   "cell_type": "code",
   "execution_count": 8,
   "metadata": {
    "ExecuteTime": {
     "end_time": "2021-04-05T16:08:57.339824Z",
     "start_time": "2021-04-05T16:08:55.350980Z"
    }
   },
   "outputs": [],
   "source": [
    "url_00 = \"https://www.rollingstone.com/music/music-lists/100-best-songs-of-the-2000s-153056/damian-marley-welcome-to-jamrock-159253/\"\n",
    "\n",
    "page_00 = requests.get(url_00)\n",
    "\n",
    "soup_00 = BeautifulSoup(page_00.content,'html.parser')"
   ]
  },
  {
   "cell_type": "code",
   "execution_count": 9,
   "metadata": {
    "ExecuteTime": {
     "end_time": "2021-04-05T16:08:57.360027Z",
     "start_time": "2021-04-05T16:08:57.342265Z"
    }
   },
   "outputs": [
    {
     "data": {
      "text/plain": [
       "[]"
      ]
     },
     "execution_count": 9,
     "metadata": {},
     "output_type": "execute_result"
    }
   ],
   "source": [
    "#pmc-gallery-vertical > div.c-gallery-vertical > div > div:nth-child(1) > article > h2\n",
    "#pmc-gallery-vertical > div.c-gallery-vertical > div > div:nth-child(2) > article > h2\n",
    "#class=\"c-gallery-vertical-album__title\"\n",
    "#<h2 class=\"c-gallery-vertical-album__title\">Gorillaz, 'Feel Good Inc.'</h2>\n",
    "#pmc-gallery-vertical > div.c-gallery-vertical > div > div:nth-child(2) > article > h2\n",
    "#pmc-gallery-vertical > div.c-gallery-vertical > div > div:nth-child(1) > article > h2\n",
    "\n",
    "soup_00.select(\"article > h2\")\n"
   ]
  },
  {
   "cell_type": "code",
   "execution_count": 10,
   "metadata": {
    "ExecuteTime": {
     "end_time": "2021-04-05T16:08:57.376275Z",
     "start_time": "2021-04-05T16:08:57.363797Z"
    }
   },
   "outputs": [
    {
     "data": {
      "text/plain": [
       "['Peaches',\n",
       " 'Up',\n",
       " 'Leave The Door Open',\n",
       " 'Drivers License',\n",
       " 'Save Your Tears',\n",
       " 'Blinding Lights',\n",
       " 'Levitating',\n",
       " \"What's Next\",\n",
       " 'What You Know Bout Love',\n",
       " 'Mood',\n",
       " '34+35',\n",
       " 'Go Crazy',\n",
       " 'Back In Blood',\n",
       " 'Calling My Phone',\n",
       " 'Therefore I Am',\n",
       " 'Anyone',\n",
       " 'Astronaut In The Ocean',\n",
       " \"You're Mines Still\",\n",
       " 'Wants And Needs',\n",
       " 'Hold On',\n",
       " 'Positions',\n",
       " 'You Broke Me First.',\n",
       " 'Beat Box',\n",
       " 'Best Friend',\n",
       " 'On Me',\n",
       " 'Dynamite',\n",
       " 'Streets',\n",
       " 'Dakiti',\n",
       " 'Heartbreak Anniversary',\n",
       " 'No More Parties',\n",
       " \"My Ex's Best Friend\",\n",
       " 'Street Runner',\n",
       " 'For The Night',\n",
       " 'Good Days',\n",
       " \"What's Your Country Song\",\n",
       " 'Without You',\n",
       " 'The Good Ones',\n",
       " 'Whoopty',\n",
       " 'Put Your Records On',\n",
       " 'Beautiful Mistakes',\n",
       " 'Starting Over',\n",
       " 'Headshot',\n",
       " 'As I Am',\n",
       " 'Telepatia',\n",
       " 'Cry Baby',\n",
       " 'Just The Way',\n",
       " 'Better Together',\n",
       " 'My Head And My Heart',\n",
       " 'Good Time',\n",
       " 'Willow',\n",
       " \"We're Good\",\n",
       " 'Lady',\n",
       " 'Track Star',\n",
       " 'Long Live',\n",
       " 'Time Today',\n",
       " 'Lemon Pepper Freestyle',\n",
       " 'Heat Waves',\n",
       " 'Damage',\n",
       " 'Goosebumps',\n",
       " 'Down To One',\n",
       " 'Forever After All',\n",
       " 'Unstable',\n",
       " \"Momma's House\",\n",
       " 'Off My Face',\n",
       " 'Hell Of A View',\n",
       " 'Ghost',\n",
       " 'Somebody Like That',\n",
       " '2 Much',\n",
       " 'Real As It Gets',\n",
       " 'Monsters',\n",
       " 'Body',\n",
       " 'Buss It',\n",
       " 'La Noche de Anoche',\n",
       " 'Masterpiece',\n",
       " 'The Business',\n",
       " 'Deserve You',\n",
       " 'Wasted On You',\n",
       " 'Made For You',\n",
       " \"Breaking Up Was Easy In The 90's\",\n",
       " 'Quicksand',\n",
       " 'Die For You',\n",
       " 'Tombstone',\n",
       " 'Pick Up Your Feelings',\n",
       " 'Love You Different',\n",
       " 'Glad You Exist',\n",
       " 'Almost Maybes',\n",
       " 'Loved By You',\n",
       " 'You Got It',\n",
       " 'Girl Like Me',\n",
       " 'One Too Many',\n",
       " 'Somebody',\n",
       " 'Hello',\n",
       " 'Nobody',\n",
       " 'Famous Friends',\n",
       " 'Settling Down',\n",
       " 'Sand In My Boots',\n",
       " 'Neighbors',\n",
       " 'Bandido',\n",
       " 'Drankin N Smokin',\n",
       " 'Beers And Sunshine']"
      ]
     },
     "execution_count": 10,
     "metadata": {},
     "output_type": "execute_result"
    }
   ],
   "source": [
    "titles = []\n",
    "for i in titles_gross:\n",
    "    titles.append(i.get_text())\n",
    "titles"
   ]
  },
  {
   "cell_type": "code",
   "execution_count": null,
   "metadata": {},
   "outputs": [],
   "source": []
  },
  {
   "cell_type": "code",
   "execution_count": 11,
   "metadata": {
    "ExecuteTime": {
     "end_time": "2021-04-05T16:08:57.695488Z",
     "start_time": "2021-04-05T16:08:57.381007Z"
    }
   },
   "outputs": [],
   "source": [
    "url_002 = 'https://www.billboard.com/articles/news/list/9339652/best-songs-of-2000-top-100/'\n",
    "page_002 = requests.get(url_002)\n",
    "\n",
    "soup_002 = BeautifulSoup(page_002.content,'html.parser')"
   ]
  },
  {
   "cell_type": "code",
   "execution_count": 12,
   "metadata": {
    "ExecuteTime": {
     "end_time": "2021-04-05T16:08:57.724402Z",
     "start_time": "2021-04-05T16:08:57.698133Z"
    }
   },
   "outputs": [
    {
     "data": {
      "text/plain": [
       "['100. Zombie Nation, \"Kernkraft 400\" (Sport Chant Stadium Remix) (No. 99, Hot 100)',\n",
       " '99. P!nk, \"There You Go\" (No. 7, Hot 100)',\n",
       " '98. O-Town, \"Liquid Dreams\" (No. 10, Hot 100)',\n",
       " '97. The White Stripes, \"Hello Operator\" (Did not chart)',\n",
       " '96. Toby Keith, \"How Do You Like Me Now?!\" (No. 31, Hot 100)',\n",
       " '95. Mandy Moore, \"I Wanna Be With You\" (No. 24, Hot 100)',\n",
       " '94. Black Rob, \"Whoa!\" (No. 43, Hot 100)',\n",
       " '93. The Dandy Warhols, \"Bohemian Like You\" (No. 28, Alternative Songs)',\n",
       " '92. Miss Kittin & The Hacker, \"Frank Sinatra\" (Did not chart)',\n",
       " '91. Hanson, \"This Time Around\" (No. 20, Hot 100)',\n",
       " '90. PJ Harvey, \"Good Fortune\" (Did not chart)',\n",
       " '89. 2Gether, \"The Hardest Part About Breaking Up (Is Getting Back Your Stuff)\" (No. 87, Hot 100)',\n",
       " '87. Hoku, \"Another Dumb Blonde\" (No. 27, Hot 100)',\n",
       " '86. Jagged Edge, \"Let\\'s Get Married\" (No. 11, Hot 100)',\n",
       " '85. Ricky Martin, \"She Bangs\" (No. 12, Hot 100)',\n",
       " '84. Beenie Man feat. Mya, \"Girls Dem Sugar\" (No. 54, Hot 100)',\n",
       " '83. Carlos Vives, \"Fruta Fresca\" (No. 1, Latin Songs)',\n",
       " '82. Limp Bizkit, \"Break Stuff\" (No. 14, Alternative Songs)',\n",
       " '81. Carl Thomas, \"I Wish\" (No. 20, Hot 100)',\n",
       " '80. 3LW, \"No More (Baby I\\'ma Do Right)\" (No. 23, Hot 100)',\n",
       " '79. Sting feat. Cheb Mami, \"Desert Rose\" (No. 17, Hot 100)',\n",
       " '78. Kylie Minogue, \"Spinning Around\" (Did not chart)',\n",
       " '77. Samantha Mumba, \"Gotta Tell You\" (No. 4, Hot 100)',\n",
       " '76. The Baha Men, \"Who Let the Dogs Out?\" (No. 40, Hot 100)',\n",
       " '75. Erykah Badu, \"Bag Lady\" (No. 6, Hot 100)',\n",
       " '74. Air, \"Playground Love\" (No. 28, Dance Singles Sales)',\n",
       " '73. Janet Jackson, \"Doesn\\'t Really Matter\" (No. 1, Hot 100)',\n",
       " '72. Deftones, \"Change (In the House of Flies)\" (No. 3, Alternative Songs)',\n",
       " '71. Savage Garden, \"I Knew I Loved You\" (No. 1, Hot 100)',\n",
       " '69. Incubus, \"Stellar\" (No. 2, Alternative Songs)\\xa0',\n",
       " '68. Marc Anthony, \"You Sang to Me\" (No. 2, Hot 100)',\n",
       " '67. Toni Braxton, \"He Wasn\\'t Man Enough\" (No. 2, Hot 100)',\n",
       " '66. David Gray, \"Babylon\" (No. 57, Hot 100)',\n",
       " '65. BBMak, \"Back Here\" (No. 13, Hot 100)',\n",
       " '64. Madonna, \"Don\\'t Tell Me\" (No. 4, Hot 100)',\n",
       " '63. Peaches, \"F--k the Pain Away\" (Did not chart)',\n",
       " '62. SR-71, \"Right Now\" (No. 2, Alternative Songs)',\n",
       " '61. Aaron Carter, \"Aaron\\'s Party (Come Get It)\" (No. 35, Hot 100)',\n",
       " '60. Enrique Iglesias, \"Be With You\" (No. 1, Hot 100)',\n",
       " '59. At the Drive-In, \"One Armed Scissor\" (No. 26, Alternative Songs)',\n",
       " '58. No Doubt, \"Simple Kind of Life\" (No. 38, Hot 100)',\n",
       " '57. Ja Rule feat. Lil Mo & Vita, \"Put It on Me\" (No. 8, Hot 100)',\n",
       " '56. Mya, \"Case of the Ex (Whatcha Gonna Do)\" (No. 2, Hot 100)',\n",
       " '55. Common, \"The Light\" (No. 44, Hot 100)',\n",
       " '54. SoulDecision feat. Thrust, \"Faded\" (No. 22, Hot 100)',\n",
       " '53. Creed, \"With Arms Wide Open\" (No. 1, Hot 100)',\n",
       " '52. Dream, \"He Loves U Not\" (No. 2, Hot 100)',\n",
       " '51. Green Day, \"Minority\" (No. 1, Alternative Songs)',\n",
       " '50. Bloodhound Gang, \"The Bad Touch\" (No. 52, Hot 100)',\n",
       " '49. Son by Four, \"A Puro Dolor\" (No. 26, Hot 100)',\n",
       " '48. Third Eye Blind, \"Never Let You Go\" (No. 14, Hot 100)',\n",
       " '47. Lonestar, \"Amazed\" (No. 1, Hot 100)',\n",
       " '46. Red Hot Chili Peppers, \"Otherside\" (No. 14, Hot 100)',\n",
       " '45. Vitamin C, \"Graduation (Friends Forever)\" (No. 38, Hot 100)',\n",
       " '44. Radiohead, \"Optimistic\" (No. 10, Alternative Songs)',\n",
       " '43. LeAnn Rimes, \"Can\\'t Fight the Moonlight\" (No. 11, Hot 100)',\n",
       " '42. The Avalanches, \"Since I Left You\" (Did not chart)',\n",
       " '41. Vertical Horizon, \"Everything You Want\" (No. 1, Hot 100)',\n",
       " '40. Christina Aguilera, \"Come on Over Baby (All I Want Is You)\" (No. 1, Hot 100)',\n",
       " '39. U2, \"Beautiful Day\" (No. 21, Hot 100)',\n",
       " '38. Jay-Z, \"I Just Wanna Love U (Give It 2 Me)\" (No. 11, Hot 100)',\n",
       " '37. Bon Jovi, \"It\\'s My Life\" (No. 33, Hot 100)',\n",
       " '36. Mystikal, \"Shake Ya Ass\" (No. 13, Hot 100)',\n",
       " '35. Santana feat. The Product G&B, \"Maria Maria\" (No. 1, Hot 100)',\n",
       " '34. Nine Days, \"Absolutely (Story of a Girl)\" (No. 6, Hot 100)',\n",
       " '33. Backstreet Boys, \"Shape of My Heart\" (No. 9, Hot 100)',\n",
       " '32. Alice Deejay, \"Better Off Alone\" (No. 27, Hot 100)',\n",
       " '31. Britney Spears, \"Lucky\" (No. 23, Hot 100)',\n",
       " '30. Lee Ann Womack, \"I Hope You Dance\" (No. 14, Hot 100)',\n",
       " '29. Wheatus, \"Teenage Dirtbag\" (No. 7, Alternative Songs)',\n",
       " '28. Faith Hill, \"The Way You Love Me\" (No. 6, Hot 100)',\n",
       " '27. 3 Doors Down, \"Kryptonite\" (No. 3, Hot 100)',\n",
       " '26. Dr. Dre feat. Eminem, \"Forgot About Dre\" (No. 25, Hot 100)',\n",
       " '25. Ludacris feat. Shawnna, \"What\\'s Your Fantasy\" (No. 21, Hot 100)',\n",
       " '24. Destiny\\'s Child, \"Jumpin\\' Jumpin\\'\" (No. 3, Hot 100)',\n",
       " '23. Moby, \"Porcelain\" (No. 18, Hot 100)',\n",
       " '22. Blink-182, \"Adam\\'s Song\" (No. 2, Alternative Songs)',\n",
       " '21. Sisqo, \"The Thong Song\" (No. 3, Hot 100)',\n",
       " '20. Eminem, \"The Real Slim Shady\" (No. 4, Hot 100)',\n",
       " '19. Madonna, \"Music\" (No. 1, Hot 100)',\n",
       " '18. *NSYNC, \"It\\'s Gonna Be Me\" (No. 1, Hot 100)',\n",
       " '17. Papa Roach, \"Last Resort\" (No. 57, Hot 100)',\n",
       " '16. Christina Aguilera, \"What a Girl Wants\" (No. 1, Hot 100)',\n",
       " '15. Dixie Chicks, \"Goodbye Earl\" (No. 19, Hot 100)',\n",
       " '14. Aaliyah, \"Try Again\" (No. 1, Hot 100)',\n",
       " '13. Red Hot Chili Peppers, \"Californication\" (No. 69, Hot 100)',\n",
       " '12. Dr. Dre feat. Snoop Dogg, \"The Next Episode\" (No. 23, Hot 100)',\n",
       " '11. Jay-Z feat. UGK, \"Big Pimpin\\'\" (No. 18, Hot 100)',\n",
       " '10. Nelly, \"Hot (S***) Country Grammar\" (No. 7, Hot 100)',\n",
       " '9. Macy Gray, \"I Try\" (No. 5, Hot 100)',\n",
       " '8. DMX, \"Party Up (Up in Here)\" (No. 27, Hot 100)',\n",
       " '7. Jennifer Lopez, \"Love Don\\'t Cost a Thing\" (No. 3, Hot 100)',\n",
       " '6. D\\'Angelo, \"Untitled (How Does It Feel)\" (No. 25, Hot 100)',\n",
       " '5. OutKast, \"B.O.B. (Bombs Over Baghdad)\" (No. 69, R&B/Hip-Hop Songs)',\n",
       " '4. Eminem feat. Dido, \"Stan\" (No. 51, Hot 100)',\n",
       " '3. Britney Spears, \"Oops!...I Did It Again\" (No. 9, Hot 100)',\n",
       " '2. *NSYNC, \"Bye Bye Bye\" (No. 4, Hot 100)',\n",
       " '1. Destiny\\'s Child, \"Say My Name\" (No. 1, Hot 100)']"
      ]
     },
     "execution_count": 12,
     "metadata": {},
     "output_type": "execute_result"
    }
   ],
   "source": [
    "#best-songs-of-2000-top-100 > div.article__fragments.mode--light > div > div:nth-child(1) \n",
    "# > div > div > div:nth-child(2) > p:nth-child(5) > strong\n",
    "\n",
    "title_gross_00 = soup_002.select('strong')\n",
    "artists_00 = []\n",
    "titles_00 = []\n",
    "check_00 = []\n",
    "for i in title_gross_00:\n",
    "    \n",
    "    artist_cl = re.sub('\\d{1,3}. ','',i.get_text()).split(', \"')[0]\n",
    "    title_cl = i.get_text().split('\"')[1]\n",
    "    \n",
    "    check_00.append(i.get_text())\n",
    "    artists_00.append(artist_cl)\n",
    "    titles_00.append(title_cl)\n",
    "    \n",
    "titles_00\n",
    "artists_00\n",
    "check_00\n"
   ]
  }
 ],
 "metadata": {
  "kernelspec": {
   "display_name": "Python 3",
   "language": "python",
   "name": "python3"
  },
  "language_info": {
   "codemirror_mode": {
    "name": "ipython",
    "version": 3
   },
   "file_extension": ".py",
   "mimetype": "text/x-python",
   "name": "python",
   "nbconvert_exporter": "python",
   "pygments_lexer": "ipython3",
   "version": "3.8.5"
  },
  "latex_envs": {
   "LaTeX_envs_menu_present": true,
   "autoclose": false,
   "autocomplete": true,
   "bibliofile": "biblio.bib",
   "cite_by": "apalike",
   "current_citInitial": 1,
   "eqLabelWithNumbers": true,
   "eqNumInitial": 1,
   "hotkeys": {
    "equation": "Ctrl-E",
    "itemize": "Ctrl-I"
   },
   "labels_anchors": false,
   "latex_user_defs": false,
   "report_style_numbering": false,
   "user_envs_cfg": false
  },
  "toc": {
   "base_numbering": 1,
   "nav_menu": {},
   "number_sections": true,
   "sideBar": true,
   "skip_h1_title": false,
   "title_cell": "Table of Contents",
   "title_sidebar": "Contents",
   "toc_cell": false,
   "toc_position": {},
   "toc_section_display": true,
   "toc_window_display": false
  },
  "varInspector": {
   "cols": {
    "lenName": 16,
    "lenType": 16,
    "lenVar": 40
   },
   "kernels_config": {
    "python": {
     "delete_cmd_postfix": "",
     "delete_cmd_prefix": "del ",
     "library": "var_list.py",
     "varRefreshCmd": "print(var_dic_list())"
    },
    "r": {
     "delete_cmd_postfix": ") ",
     "delete_cmd_prefix": "rm(",
     "library": "var_list.r",
     "varRefreshCmd": "cat(var_dic_list()) "
    }
   },
   "types_to_exclude": [
    "module",
    "function",
    "builtin_function_or_method",
    "instance",
    "_Feature"
   ],
   "window_display": false
  }
 },
 "nbformat": 4,
 "nbformat_minor": 4
}
