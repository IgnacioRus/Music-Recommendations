{
 "cells": [
  {
   "cell_type": "code",
   "execution_count": 6,
   "metadata": {
    "ExecuteTime": {
     "end_time": "2021-04-09T11:15:09.093855Z",
     "start_time": "2021-04-09T11:15:09.087894Z"
    }
   },
   "outputs": [],
   "source": [
    "import pandas as pd\n",
    "import numpy as np\n",
    "import requests\n",
    "from sklearn.preprocessing import StandardScaler\n",
    "from sklearn.cluster import KMeans\n",
    "from sklearn.metrics import silhouette_score\n",
    "import pickle"
   ]
  },
  {
   "cell_type": "code",
   "execution_count": null,
   "metadata": {},
   "outputs": [],
   "source": []
  },
  {
   "cell_type": "code",
   "execution_count": 3,
   "metadata": {
    "ExecuteTime": {
     "end_time": "2021-04-09T11:12:58.986959Z",
     "start_time": "2021-04-09T11:12:58.803733Z"
    },
    "scrolled": true
   },
   "outputs": [
    {
     "data": {
      "text/html": [
       "<div>\n",
       "<style scoped>\n",
       "    .dataframe tbody tr th:only-of-type {\n",
       "        vertical-align: middle;\n",
       "    }\n",
       "\n",
       "    .dataframe tbody tr th {\n",
       "        vertical-align: top;\n",
       "    }\n",
       "\n",
       "    .dataframe thead th {\n",
       "        text-align: right;\n",
       "    }\n",
       "</style>\n",
       "<table border=\"1\" class=\"dataframe\">\n",
       "  <thead>\n",
       "    <tr style=\"text-align: right;\">\n",
       "      <th></th>\n",
       "      <th>danceability</th>\n",
       "      <th>energy</th>\n",
       "      <th>speechiness</th>\n",
       "      <th>acousticness</th>\n",
       "      <th>instrumentalness</th>\n",
       "      <th>liveness</th>\n",
       "      <th>valence</th>\n",
       "    </tr>\n",
       "  </thead>\n",
       "  <tbody>\n",
       "    <tr>\n",
       "      <th>count</th>\n",
       "      <td>27106.000000</td>\n",
       "      <td>27106.000000</td>\n",
       "      <td>27106.000000</td>\n",
       "      <td>27106.000000</td>\n",
       "      <td>27106.000000</td>\n",
       "      <td>27106.000000</td>\n",
       "      <td>27106.000000</td>\n",
       "    </tr>\n",
       "    <tr>\n",
       "      <th>mean</th>\n",
       "      <td>0.592510</td>\n",
       "      <td>0.711662</td>\n",
       "      <td>0.085723</td>\n",
       "      <td>0.202407</td>\n",
       "      <td>0.167269</td>\n",
       "      <td>0.210532</td>\n",
       "      <td>0.459730</td>\n",
       "    </tr>\n",
       "    <tr>\n",
       "      <th>std</th>\n",
       "      <td>0.146955</td>\n",
       "      <td>0.224924</td>\n",
       "      <td>0.086589</td>\n",
       "      <td>0.278876</td>\n",
       "      <td>0.302745</td>\n",
       "      <td>0.180491</td>\n",
       "      <td>0.252728</td>\n",
       "    </tr>\n",
       "    <tr>\n",
       "      <th>min</th>\n",
       "      <td>0.000000</td>\n",
       "      <td>0.000000</td>\n",
       "      <td>0.000000</td>\n",
       "      <td>0.000000</td>\n",
       "      <td>0.000000</td>\n",
       "      <td>0.000000</td>\n",
       "      <td>0.000000</td>\n",
       "    </tr>\n",
       "    <tr>\n",
       "      <th>25%</th>\n",
       "      <td>0.500000</td>\n",
       "      <td>0.579000</td>\n",
       "      <td>0.037200</td>\n",
       "      <td>0.005960</td>\n",
       "      <td>0.000001</td>\n",
       "      <td>0.094800</td>\n",
       "      <td>0.249000</td>\n",
       "    </tr>\n",
       "    <tr>\n",
       "      <th>50%</th>\n",
       "      <td>0.599000</td>\n",
       "      <td>0.766000</td>\n",
       "      <td>0.052500</td>\n",
       "      <td>0.057050</td>\n",
       "      <td>0.000584</td>\n",
       "      <td>0.133000</td>\n",
       "      <td>0.438000</td>\n",
       "    </tr>\n",
       "    <tr>\n",
       "      <th>75%</th>\n",
       "      <td>0.695000</td>\n",
       "      <td>0.891000</td>\n",
       "      <td>0.090800</td>\n",
       "      <td>0.301000</td>\n",
       "      <td>0.146000</td>\n",
       "      <td>0.284000</td>\n",
       "      <td>0.659000</td>\n",
       "    </tr>\n",
       "    <tr>\n",
       "      <th>max</th>\n",
       "      <td>0.980000</td>\n",
       "      <td>1.000000</td>\n",
       "      <td>0.963000</td>\n",
       "      <td>0.996000</td>\n",
       "      <td>0.996000</td>\n",
       "      <td>0.997000</td>\n",
       "      <td>0.991000</td>\n",
       "    </tr>\n",
       "  </tbody>\n",
       "</table>\n",
       "</div>"
      ],
      "text/plain": [
       "       danceability        energy   speechiness  acousticness  \\\n",
       "count  27106.000000  27106.000000  27106.000000  27106.000000   \n",
       "mean       0.592510      0.711662      0.085723      0.202407   \n",
       "std        0.146955      0.224924      0.086589      0.278876   \n",
       "min        0.000000      0.000000      0.000000      0.000000   \n",
       "25%        0.500000      0.579000      0.037200      0.005960   \n",
       "50%        0.599000      0.766000      0.052500      0.057050   \n",
       "75%        0.695000      0.891000      0.090800      0.301000   \n",
       "max        0.980000      1.000000      0.963000      0.996000   \n",
       "\n",
       "       instrumentalness      liveness       valence  \n",
       "count      27106.000000  27106.000000  27106.000000  \n",
       "mean           0.167269      0.210532      0.459730  \n",
       "std            0.302745      0.180491      0.252728  \n",
       "min            0.000000      0.000000      0.000000  \n",
       "25%            0.000001      0.094800      0.249000  \n",
       "50%            0.000584      0.133000      0.438000  \n",
       "75%            0.146000      0.284000      0.659000  \n",
       "max            0.996000      0.997000      0.991000  "
      ]
     },
     "execution_count": 3,
     "metadata": {},
     "output_type": "execute_result"
    }
   ],
   "source": [
    "database = pd.read_csv('../data/song_database.csv')\n",
    "\n",
    "audio_feat = database.drop(columns=['artist','song','uri','duration_ms','tempo','loudness'])\n",
    "\n",
    "audio_feat.describe()"
   ]
  },
  {
   "cell_type": "code",
   "execution_count": 4,
   "metadata": {
    "ExecuteTime": {
     "end_time": "2021-04-09T11:13:06.167067Z",
     "start_time": "2021-04-09T11:13:06.136741Z"
    }
   },
   "outputs": [
    {
     "data": {
      "text/html": [
       "<div>\n",
       "<style scoped>\n",
       "    .dataframe tbody tr th:only-of-type {\n",
       "        vertical-align: middle;\n",
       "    }\n",
       "\n",
       "    .dataframe tbody tr th {\n",
       "        vertical-align: top;\n",
       "    }\n",
       "\n",
       "    .dataframe thead th {\n",
       "        text-align: right;\n",
       "    }\n",
       "</style>\n",
       "<table border=\"1\" class=\"dataframe\">\n",
       "  <thead>\n",
       "    <tr style=\"text-align: right;\">\n",
       "      <th></th>\n",
       "      <th>danceability</th>\n",
       "      <th>energy</th>\n",
       "      <th>speechiness</th>\n",
       "      <th>acousticness</th>\n",
       "      <th>instrumentalness</th>\n",
       "      <th>liveness</th>\n",
       "      <th>valence</th>\n",
       "    </tr>\n",
       "  </thead>\n",
       "  <tbody>\n",
       "    <tr>\n",
       "      <th>0</th>\n",
       "      <td>-1.657061</td>\n",
       "      <td>-1.021082</td>\n",
       "      <td>-0.487640</td>\n",
       "      <td>2.064011</td>\n",
       "      <td>-0.548555</td>\n",
       "      <td>-0.496054</td>\n",
       "      <td>0.262223</td>\n",
       "    </tr>\n",
       "    <tr>\n",
       "      <th>1</th>\n",
       "      <td>-0.228030</td>\n",
       "      <td>-2.439363</td>\n",
       "      <td>-0.407951</td>\n",
       "      <td>2.436943</td>\n",
       "      <td>-0.552464</td>\n",
       "      <td>-0.274432</td>\n",
       "      <td>0.392800</td>\n",
       "    </tr>\n",
       "    <tr>\n",
       "      <th>2</th>\n",
       "      <td>1.024073</td>\n",
       "      <td>-1.007744</td>\n",
       "      <td>-0.468006</td>\n",
       "      <td>2.218204</td>\n",
       "      <td>-0.552519</td>\n",
       "      <td>-0.713797</td>\n",
       "      <td>0.206826</td>\n",
       "    </tr>\n",
       "    <tr>\n",
       "      <th>3</th>\n",
       "      <td>-0.241640</td>\n",
       "      <td>-1.003298</td>\n",
       "      <td>0.139473</td>\n",
       "      <td>0.773092</td>\n",
       "      <td>-0.552519</td>\n",
       "      <td>0.190972</td>\n",
       "      <td>0.891370</td>\n",
       "    </tr>\n",
       "    <tr>\n",
       "      <th>4</th>\n",
       "      <td>1.003658</td>\n",
       "      <td>-0.580925</td>\n",
       "      <td>-0.571948</td>\n",
       "      <td>1.637290</td>\n",
       "      <td>-0.324930</td>\n",
       "      <td>-0.063892</td>\n",
       "      <td>2.015128</td>\n",
       "    </tr>\n",
       "    <tr>\n",
       "      <th>...</th>\n",
       "      <td>...</td>\n",
       "      <td>...</td>\n",
       "      <td>...</td>\n",
       "      <td>...</td>\n",
       "      <td>...</td>\n",
       "      <td>...</td>\n",
       "      <td>...</td>\n",
       "    </tr>\n",
       "    <tr>\n",
       "      <th>27101</th>\n",
       "      <td>-0.119152</td>\n",
       "      <td>-0.185229</td>\n",
       "      <td>-0.622764</td>\n",
       "      <td>0.504150</td>\n",
       "      <td>-0.552502</td>\n",
       "      <td>-0.451729</td>\n",
       "      <td>1.108999</td>\n",
       "    </tr>\n",
       "    <tr>\n",
       "      <th>27102</th>\n",
       "      <td>0.248313</td>\n",
       "      <td>0.677299</td>\n",
       "      <td>-0.597356</td>\n",
       "      <td>-0.324189</td>\n",
       "      <td>0.263365</td>\n",
       "      <td>2.423807</td>\n",
       "      <td>1.971603</td>\n",
       "    </tr>\n",
       "    <tr>\n",
       "      <th>27103</th>\n",
       "      <td>0.724657</td>\n",
       "      <td>-1.087772</td>\n",
       "      <td>-0.556934</td>\n",
       "      <td>1.730523</td>\n",
       "      <td>-0.552519</td>\n",
       "      <td>0.578810</td>\n",
       "      <td>1.203964</td>\n",
       "    </tr>\n",
       "    <tr>\n",
       "      <th>27104</th>\n",
       "      <td>0.432046</td>\n",
       "      <td>-0.492005</td>\n",
       "      <td>-0.540765</td>\n",
       "      <td>-0.527509</td>\n",
       "      <td>-0.332197</td>\n",
       "      <td>-0.626810</td>\n",
       "      <td>0.460068</td>\n",
       "    </tr>\n",
       "    <tr>\n",
       "      <th>27105</th>\n",
       "      <td>-0.377738</td>\n",
       "      <td>-0.051849</td>\n",
       "      <td>-0.567328</td>\n",
       "      <td>-0.216613</td>\n",
       "      <td>-0.552513</td>\n",
       "      <td>0.955566</td>\n",
       "      <td>0.930938</td>\n",
       "    </tr>\n",
       "  </tbody>\n",
       "</table>\n",
       "<p>27106 rows × 7 columns</p>\n",
       "</div>"
      ],
      "text/plain": [
       "       danceability    energy  speechiness  acousticness  instrumentalness  \\\n",
       "0         -1.657061 -1.021082    -0.487640      2.064011         -0.548555   \n",
       "1         -0.228030 -2.439363    -0.407951      2.436943         -0.552464   \n",
       "2          1.024073 -1.007744    -0.468006      2.218204         -0.552519   \n",
       "3         -0.241640 -1.003298     0.139473      0.773092         -0.552519   \n",
       "4          1.003658 -0.580925    -0.571948      1.637290         -0.324930   \n",
       "...             ...       ...          ...           ...               ...   \n",
       "27101     -0.119152 -0.185229    -0.622764      0.504150         -0.552502   \n",
       "27102      0.248313  0.677299    -0.597356     -0.324189          0.263365   \n",
       "27103      0.724657 -1.087772    -0.556934      1.730523         -0.552519   \n",
       "27104      0.432046 -0.492005    -0.540765     -0.527509         -0.332197   \n",
       "27105     -0.377738 -0.051849    -0.567328     -0.216613         -0.552513   \n",
       "\n",
       "       liveness   valence  \n",
       "0     -0.496054  0.262223  \n",
       "1     -0.274432  0.392800  \n",
       "2     -0.713797  0.206826  \n",
       "3      0.190972  0.891370  \n",
       "4     -0.063892  2.015128  \n",
       "...         ...       ...  \n",
       "27101 -0.451729  1.108999  \n",
       "27102  2.423807  1.971603  \n",
       "27103  0.578810  1.203964  \n",
       "27104 -0.626810  0.460068  \n",
       "27105  0.955566  0.930938  \n",
       "\n",
       "[27106 rows x 7 columns]"
      ]
     },
     "execution_count": 4,
     "metadata": {},
     "output_type": "execute_result"
    }
   ],
   "source": [
    "scaler = StandardScaler()\n",
    "\n",
    "audio_scaled = scaler.fit_transform(audio_feat)\n",
    "\n",
    "pd.DataFrame(audio_scaled,columns=audio_feat.columns)"
   ]
  },
  {
   "cell_type": "markdown",
   "metadata": {},
   "source": [
    "### Choosing K with Elbow Method and Silhouette"
   ]
  },
  {
   "cell_type": "code",
   "execution_count": 34,
   "metadata": {
    "ExecuteTime": {
     "end_time": "2021-04-09T08:46:06.773449Z",
     "start_time": "2021-04-09T08:35:13.069648Z"
    }
   },
   "outputs": [],
   "source": [
    "K = range(6, 30)\n",
    "\n",
    "inertia = []\n",
    "silhouette = []\n",
    "\n",
    "for k in K:\n",
    "    \n",
    "    kmeans = KMeans(n_clusters=k,n_init=40,max_iter=400,random_state=1234)\n",
    "    \n",
    "    kmeans.fit(audio_scaled)\n",
    "    \n",
    "    inertia.append(kmeans.inertia_)\n",
    "    silhouette.append(silhouette_score(audio_scaled, kmeans.predict(audio_scaled)))\n",
    "    \n",
    "import matplotlib.pyplot as plt\n",
    "%matplotlib inline"
   ]
  },
  {
   "cell_type": "code",
   "execution_count": 35,
   "metadata": {
    "ExecuteTime": {
     "end_time": "2021-04-09T08:46:07.240971Z",
     "start_time": "2021-04-09T08:46:06.897882Z"
    },
    "scrolled": false
   },
   "outputs": [
    {
     "data": {
      "text/plain": [
       "Text(0.5, 1.0, 'Elbow Method showing the optimal k')"
      ]
     },
     "execution_count": 35,
     "metadata": {},
     "output_type": "execute_result"
    },
    {
     "data": {
      "image/png": "[encoded data removed]",
      "text/plain": [
       "<Figure size 1152x576 with 1 Axes>"
      ]
     },
     "metadata": {
      "needs_background": "light"
     },
     "output_type": "display_data"
    }
   ],
   "source": [
    "plt.figure(figsize=(16,8))\n",
    "plt.plot(K, inertia, 'bx-')\n",
    "plt.xlabel('k')\n",
    "plt.ylabel('inertia')\n",
    "plt.xticks(np.arange(min(K), max(K)+1, 1.0))\n",
    "plt.title('Elbow Method showing the optimal k')"
   ]
  },
  {
   "cell_type": "code",
   "execution_count": 36,
   "metadata": {
    "ExecuteTime": {
     "end_time": "2021-04-09T08:46:07.689393Z",
     "start_time": "2021-04-09T08:46:07.324507Z"
    }
   },
   "outputs": [
    {
     "data": {
      "text/plain": [
       "Text(0.5, 1.0, 'Elbow Method showing the optimal k')"
      ]
     },
     "execution_count": 36,
     "metadata": {},
     "output_type": "execute_result"
    },
    {
     "data": {
      "image/png": "[encoded data removed]",
      "text/plain": [
       "<Figure size 1152x576 with 1 Axes>"
      ]
     },
     "metadata": {
      "needs_background": "light"
     },
     "output_type": "display_data"
    }
   ],
   "source": [
    "plt.figure(figsize=(16,8))\n",
    "plt.plot(K[5:], inertia[5:], 'bx-')\n",
    "plt.xlabel('k')\n",
    "plt.ylabel('inertia')\n",
    "plt.xticks(np.arange(K[5], max(K)+1, 1.0))\n",
    "plt.title('Elbow Method showing the optimal k')"
   ]
  },
  {
   "cell_type": "code",
   "execution_count": 37,
   "metadata": {
    "ExecuteTime": {
     "end_time": "2021-04-09T08:46:08.463035Z",
     "start_time": "2021-04-09T08:46:07.824422Z"
    }
   },
   "outputs": [
    {
     "data": {
      "text/plain": [
       "Text(0.5, 1.0, 'Silhouette Method showing the optimal k')"
      ]
     },
     "execution_count": 37,
     "metadata": {},
     "output_type": "execute_result"
    },
    {
     "data": {
      "image/png": "[encoded data removed]",
      "text/plain": [
       "<Figure size 1152x576 with 1 Axes>"
      ]
     },
     "metadata": {
      "needs_background": "light"
     },
     "output_type": "display_data"
    }
   ],
   "source": [
    "plt.figure(figsize=(16,8))\n",
    "plt.plot(K, silhouette, 'bx-')\n",
    "plt.xlabel('k')\n",
    "plt.ylabel('silhouette score')\n",
    "plt.xticks(np.arange(min(K), max(K)+1, 1.0))\n",
    "plt.title('Silhouette Method showing the optimal k')"
   ]
  },
  {
   "cell_type": "code",
   "execution_count": 38,
   "metadata": {
    "ExecuteTime": {
     "end_time": "2021-04-09T08:46:09.049428Z",
     "start_time": "2021-04-09T08:46:08.614383Z"
    },
    "scrolled": true
   },
   "outputs": [
    {
     "data": {
      "text/plain": [
       "Text(0.5, 1.0, 'Silhouette Method showing the optimal k')"
      ]
     },
     "execution_count": 38,
     "metadata": {},
     "output_type": "execute_result"
    },
    {
     "data": {
      "image/png": "[encoded data removed]",
      "text/plain": [
       "<Figure size 1152x576 with 1 Axes>"
      ]
     },
     "metadata": {
      "needs_background": "light"
     },
     "output_type": "display_data"
    }
   ],
   "source": [
    "plt.figure(figsize=(16,8))\n",
    "plt.plot(K[5:], silhouette[5:], 'bx-')\n",
    "plt.xlabel('k')\n",
    "plt.ylabel('silhouette score')\n",
    "plt.xticks(np.arange(K[5], max(K)+1, 1.0))\n",
    "plt.title('Silhouette Method showing the optimal k')"
   ]
  },
  {
   "cell_type": "markdown",
   "metadata": {},
   "source": [
    "### Clustering"
   ]
  },
  {
   "cell_type": "code",
   "execution_count": 5,
   "metadata": {
    "ExecuteTime": {
     "end_time": "2021-04-09T11:13:27.726639Z",
     "start_time": "2021-04-09T11:13:24.394821Z"
    }
   },
   "outputs": [
    {
     "data": {
      "text/plain": [
       "KMeans(max_iter=200, n_clusters=11, n_init=20, random_state=1234)"
      ]
     },
     "execution_count": 5,
     "metadata": {},
     "output_type": "execute_result"
    }
   ],
   "source": [
    "kmeans_final = KMeans(n_clusters=11,n_init=20,max_iter=200,random_state=1234)\n",
    "\n",
    "kmeans_final.fit(audio_scaled)"
   ]
  },
  {
   "cell_type": "code",
   "execution_count": 7,
   "metadata": {
    "ExecuteTime": {
     "end_time": "2021-04-09T11:15:23.467804Z",
     "start_time": "2021-04-09T11:15:23.459018Z"
    }
   },
   "outputs": [],
   "source": [
    "with open(\"../data/kmeans.pickle\", \"wb\") as f:\n",
    "    pickle.dump(kmeans_final,f)\n",
    "with open(\"../data/scaler.pickle\", \"wb\") as f:\n",
    "    pickle.dump(scaler,f)"
   ]
  },
  {
   "cell_type": "code",
   "execution_count": 8,
   "metadata": {
    "ExecuteTime": {
     "end_time": "2021-04-09T11:15:24.961891Z",
     "start_time": "2021-04-09T11:15:24.939247Z"
    }
   },
   "outputs": [
    {
     "data": {
      "text/plain": [
       "0     4311\n",
       "1     3468\n",
       "2     3385\n",
       "3     2122\n",
       "4     2124\n",
       "5     2881\n",
       "6      691\n",
       "7     3144\n",
       "8     1632\n",
       "9     1115\n",
       "10    2233\n",
       "dtype: int64"
      ]
     },
     "execution_count": 8,
     "metadata": {},
     "output_type": "execute_result"
    }
   ],
   "source": [
    "clusters = kmeans_final.predict(audio_scaled)\n",
    "pd.Series(clusters).value_counts().sort_index()"
   ]
  },
  {
   "cell_type": "code",
   "execution_count": 9,
   "metadata": {
    "ExecuteTime": {
     "end_time": "2021-04-09T11:15:27.879620Z",
     "start_time": "2021-04-09T11:15:27.389212Z"
    }
   },
   "outputs": [
    {
     "data": {
      "text/html": [
       "<div>\n",
       "<style scoped>\n",
       "    .dataframe tbody tr th:only-of-type {\n",
       "        vertical-align: middle;\n",
       "    }\n",
       "\n",
       "    .dataframe tbody tr th {\n",
       "        vertical-align: top;\n",
       "    }\n",
       "\n",
       "    .dataframe thead th {\n",
       "        text-align: right;\n",
       "    }\n",
       "</style>\n",
       "<table border=\"1\" class=\"dataframe\">\n",
       "  <thead>\n",
       "    <tr style=\"text-align: right;\">\n",
       "      <th></th>\n",
       "      <th>song</th>\n",
       "      <th>artist</th>\n",
       "      <th>uri</th>\n",
       "      <th>danceability</th>\n",
       "      <th>energy</th>\n",
       "      <th>loudness</th>\n",
       "      <th>speechiness</th>\n",
       "      <th>acousticness</th>\n",
       "      <th>instrumentalness</th>\n",
       "      <th>liveness</th>\n",
       "      <th>valence</th>\n",
       "      <th>tempo</th>\n",
       "      <th>duration_ms</th>\n",
       "      <th>cluster</th>\n",
       "    </tr>\n",
       "  </thead>\n",
       "  <tbody>\n",
       "    <tr>\n",
       "      <th>34</th>\n",
       "      <td>Sambolero</td>\n",
       "      <td>Luiz Bonfá</td>\n",
       "      <td>spotify:track:44SPxt26EgxgqhoOCTE7Y2</td>\n",
       "      <td>0.6000</td>\n",
       "      <td>0.02440</td>\n",
       "      <td>-25.019</td>\n",
       "      <td>0.0377</td>\n",
       "      <td>0.965</td>\n",
       "      <td>0.633</td>\n",
       "      <td>0.1070</td>\n",
       "      <td>0.5940</td>\n",
       "      <td>104.647</td>\n",
       "      <td>173160</td>\n",
       "      <td>6</td>\n",
       "    </tr>\n",
       "    <tr>\n",
       "      <th>40</th>\n",
       "      <td>O ouro e a madeira</td>\n",
       "      <td>Lula Pena</td>\n",
       "      <td>spotify:track:0qaM3kQL0NNvLVKdLGxY7Y</td>\n",
       "      <td>0.5360</td>\n",
       "      <td>0.18700</td>\n",
       "      <td>-18.813</td>\n",
       "      <td>0.0553</td>\n",
       "      <td>0.887</td>\n",
       "      <td>0.596</td>\n",
       "      <td>0.1090</td>\n",
       "      <td>0.4190</td>\n",
       "      <td>153.970</td>\n",
       "      <td>140387</td>\n",
       "      <td>6</td>\n",
       "    </tr>\n",
       "    <tr>\n",
       "      <th>108</th>\n",
       "      <td>Sorriu Para Mim</td>\n",
       "      <td>Rosa Passos, Ron Carter</td>\n",
       "      <td>spotify:track:4RWArvqdi3dy4Z1VMXdN3T</td>\n",
       "      <td>0.6850</td>\n",
       "      <td>0.28100</td>\n",
       "      <td>-20.799</td>\n",
       "      <td>0.0472</td>\n",
       "      <td>0.866</td>\n",
       "      <td>0.756</td>\n",
       "      <td>0.1060</td>\n",
       "      <td>0.7270</td>\n",
       "      <td>96.592</td>\n",
       "      <td>238000</td>\n",
       "      <td>6</td>\n",
       "    </tr>\n",
       "    <tr>\n",
       "      <th>123</th>\n",
       "      <td>Choro No. 11</td>\n",
       "      <td>Mauricio Einhorn, Sebastiao Tapajós, Altamiro ...</td>\n",
       "      <td>spotify:track:1XCMiWIOAnKnDBO0XQQgHZ</td>\n",
       "      <td>0.5570</td>\n",
       "      <td>0.54700</td>\n",
       "      <td>-4.903</td>\n",
       "      <td>0.0296</td>\n",
       "      <td>0.940</td>\n",
       "      <td>0.945</td>\n",
       "      <td>0.2040</td>\n",
       "      <td>0.8230</td>\n",
       "      <td>141.553</td>\n",
       "      <td>144857</td>\n",
       "      <td>6</td>\n",
       "    </tr>\n",
       "    <tr>\n",
       "      <th>124</th>\n",
       "      <td>Odeon</td>\n",
       "      <td>Raphael Rabello &amp; Dino 7 Cordas, Dino 7 Cordas...</td>\n",
       "      <td>spotify:track:0jSUpQvXu5ngJ9i9oTPGIQ</td>\n",
       "      <td>0.3580</td>\n",
       "      <td>0.46200</td>\n",
       "      <td>-10.322</td>\n",
       "      <td>0.0414</td>\n",
       "      <td>0.883</td>\n",
       "      <td>0.863</td>\n",
       "      <td>0.1120</td>\n",
       "      <td>0.5220</td>\n",
       "      <td>99.679</td>\n",
       "      <td>210960</td>\n",
       "      <td>6</td>\n",
       "    </tr>\n",
       "    <tr>\n",
       "      <th>...</th>\n",
       "      <td>...</td>\n",
       "      <td>...</td>\n",
       "      <td>...</td>\n",
       "      <td>...</td>\n",
       "      <td>...</td>\n",
       "      <td>...</td>\n",
       "      <td>...</td>\n",
       "      <td>...</td>\n",
       "      <td>...</td>\n",
       "      <td>...</td>\n",
       "      <td>...</td>\n",
       "      <td>...</td>\n",
       "      <td>...</td>\n",
       "      <td>...</td>\n",
       "    </tr>\n",
       "    <tr>\n",
       "      <th>26885</th>\n",
       "      <td>Homenaje a Federico Garcia Lorca: II. Duelo</td>\n",
       "      <td>Silvestre Revueltas, Neal Wolworth, Xalapa Sym...</td>\n",
       "      <td>spotify:track:6022iGIh2KnyBT5eW20G5w</td>\n",
       "      <td>0.1260</td>\n",
       "      <td>0.01960</td>\n",
       "      <td>-23.228</td>\n",
       "      <td>0.0393</td>\n",
       "      <td>0.980</td>\n",
       "      <td>0.780</td>\n",
       "      <td>0.1080</td>\n",
       "      <td>0.0335</td>\n",
       "      <td>69.288</td>\n",
       "      <td>287893</td>\n",
       "      <td>6</td>\n",
       "    </tr>\n",
       "    <tr>\n",
       "      <th>26886</th>\n",
       "      <td>Homenaje a Federico Garcia Lorca: III. Son</td>\n",
       "      <td>Silvestre Revueltas, Neal Wolworth, Xalapa Sym...</td>\n",
       "      <td>spotify:track:6U8eNJ0TjDSlUpulpPEYNN</td>\n",
       "      <td>0.2750</td>\n",
       "      <td>0.30700</td>\n",
       "      <td>-18.558</td>\n",
       "      <td>0.0374</td>\n",
       "      <td>0.913</td>\n",
       "      <td>0.828</td>\n",
       "      <td>0.5700</td>\n",
       "      <td>0.5480</td>\n",
       "      <td>58.234</td>\n",
       "      <td>198933</td>\n",
       "      <td>6</td>\n",
       "    </tr>\n",
       "    <tr>\n",
       "      <th>26895</th>\n",
       "      <td>Wolwerine Blues</td>\n",
       "      <td>Aspheim Oldtimers</td>\n",
       "      <td>spotify:track:6byFa7qzErp9Tr67jsXJ9O</td>\n",
       "      <td>0.5110</td>\n",
       "      <td>0.43100</td>\n",
       "      <td>-11.370</td>\n",
       "      <td>0.0704</td>\n",
       "      <td>0.931</td>\n",
       "      <td>0.959</td>\n",
       "      <td>0.0747</td>\n",
       "      <td>0.8860</td>\n",
       "      <td>184.802</td>\n",
       "      <td>285947</td>\n",
       "      <td>6</td>\n",
       "    </tr>\n",
       "    <tr>\n",
       "      <th>26912</th>\n",
       "      <td>Concert of Wolwes In Canada's Forests</td>\n",
       "      <td>Natural Sounds</td>\n",
       "      <td>spotify:track:74lCVPIg04nxxalNsC2r6H</td>\n",
       "      <td>0.1670</td>\n",
       "      <td>0.11000</td>\n",
       "      <td>-27.323</td>\n",
       "      <td>0.0489</td>\n",
       "      <td>0.990</td>\n",
       "      <td>0.895</td>\n",
       "      <td>0.1560</td>\n",
       "      <td>0.0378</td>\n",
       "      <td>87.755</td>\n",
       "      <td>371067</td>\n",
       "      <td>6</td>\n",
       "    </tr>\n",
       "    <tr>\n",
       "      <th>26972</th>\n",
       "      <td>Portrait of Mom</td>\n",
       "      <td>Hans Zimmer, Lang Lang</td>\n",
       "      <td>spotify:track:0D3J2SJrmHmRMeuaHieHq3</td>\n",
       "      <td>0.0979</td>\n",
       "      <td>0.00956</td>\n",
       "      <td>-34.311</td>\n",
       "      <td>0.0388</td>\n",
       "      <td>0.953</td>\n",
       "      <td>0.938</td>\n",
       "      <td>0.3180</td>\n",
       "      <td>0.0710</td>\n",
       "      <td>71.729</td>\n",
       "      <td>108707</td>\n",
       "      <td>6</td>\n",
       "    </tr>\n",
       "  </tbody>\n",
       "</table>\n",
       "<p>691 rows × 14 columns</p>\n",
       "</div>"
      ],
      "text/plain": [
       "                                              song  \\\n",
       "34                                       Sambolero   \n",
       "40                              O ouro e a madeira   \n",
       "108                                Sorriu Para Mim   \n",
       "123                                   Choro No. 11   \n",
       "124                                          Odeon   \n",
       "...                                            ...   \n",
       "26885  Homenaje a Federico Garcia Lorca: II. Duelo   \n",
       "26886   Homenaje a Federico Garcia Lorca: III. Son   \n",
       "26895                              Wolwerine Blues   \n",
       "26912        Concert of Wolwes In Canada's Forests   \n",
       "26972                              Portrait of Mom   \n",
       "\n",
       "                                                  artist  \\\n",
       "34                                            Luiz Bonfá   \n",
       "40                                             Lula Pena   \n",
       "108                              Rosa Passos, Ron Carter   \n",
       "123    Mauricio Einhorn, Sebastiao Tapajós, Altamiro ...   \n",
       "124    Raphael Rabello & Dino 7 Cordas, Dino 7 Cordas...   \n",
       "...                                                  ...   \n",
       "26885  Silvestre Revueltas, Neal Wolworth, Xalapa Sym...   \n",
       "26886  Silvestre Revueltas, Neal Wolworth, Xalapa Sym...   \n",
       "26895                                  Aspheim Oldtimers   \n",
       "26912                                     Natural Sounds   \n",
       "26972                             Hans Zimmer, Lang Lang   \n",
       "\n",
       "                                        uri  danceability   energy  loudness  \\\n",
       "34     spotify:track:44SPxt26EgxgqhoOCTE7Y2        0.6000  0.02440   -25.019   \n",
       "40     spotify:track:0qaM3kQL0NNvLVKdLGxY7Y        0.5360  0.18700   -18.813   \n",
       "108    spotify:track:4RWArvqdi3dy4Z1VMXdN3T        0.6850  0.28100   -20.799   \n",
       "123    spotify:track:1XCMiWIOAnKnDBO0XQQgHZ        0.5570  0.54700    -4.903   \n",
       "124    spotify:track:0jSUpQvXu5ngJ9i9oTPGIQ        0.3580  0.46200   -10.322   \n",
       "...                                     ...           ...      ...       ...   \n",
       "26885  spotify:track:6022iGIh2KnyBT5eW20G5w        0.1260  0.01960   -23.228   \n",
       "26886  spotify:track:6U8eNJ0TjDSlUpulpPEYNN        0.2750  0.30700   -18.558   \n",
       "26895  spotify:track:6byFa7qzErp9Tr67jsXJ9O        0.5110  0.43100   -11.370   \n",
       "26912  spotify:track:74lCVPIg04nxxalNsC2r6H        0.1670  0.11000   -27.323   \n",
       "26972  spotify:track:0D3J2SJrmHmRMeuaHieHq3        0.0979  0.00956   -34.311   \n",
       "\n",
       "       speechiness  acousticness  instrumentalness  liveness  valence  \\\n",
       "34          0.0377         0.965             0.633    0.1070   0.5940   \n",
       "40          0.0553         0.887             0.596    0.1090   0.4190   \n",
       "108         0.0472         0.866             0.756    0.1060   0.7270   \n",
       "123         0.0296         0.940             0.945    0.2040   0.8230   \n",
       "124         0.0414         0.883             0.863    0.1120   0.5220   \n",
       "...            ...           ...               ...       ...      ...   \n",
       "26885       0.0393         0.980             0.780    0.1080   0.0335   \n",
       "26886       0.0374         0.913             0.828    0.5700   0.5480   \n",
       "26895       0.0704         0.931             0.959    0.0747   0.8860   \n",
       "26912       0.0489         0.990             0.895    0.1560   0.0378   \n",
       "26972       0.0388         0.953             0.938    0.3180   0.0710   \n",
       "\n",
       "         tempo  duration_ms  cluster  \n",
       "34     104.647       173160        6  \n",
       "40     153.970       140387        6  \n",
       "108     96.592       238000        6  \n",
       "123    141.553       144857        6  \n",
       "124     99.679       210960        6  \n",
       "...        ...          ...      ...  \n",
       "26885   69.288       287893        6  \n",
       "26886   58.234       198933        6  \n",
       "26895  184.802       285947        6  \n",
       "26912   87.755       371067        6  \n",
       "26972   71.729       108707        6  \n",
       "\n",
       "[691 rows x 14 columns]"
      ]
     },
     "execution_count": 9,
     "metadata": {},
     "output_type": "execute_result"
    }
   ],
   "source": [
    "new_database = database.copy()\n",
    "\n",
    "new_database['cluster'] = clusters\n",
    "\n",
    "new_database.to_csv('../data/clustered_database.csv',index=False)\n",
    "\n",
    "new_database.loc[new_database['cluster']==6]"
   ]
  }
 ],
 "metadata": {
  "kernelspec": {
   "display_name": "Python 3",
   "language": "python",
   "name": "python3"
  },
  "language_info": {
   "codemirror_mode": {
    "name": "ipython",
    "version": 3
   },
   "file_extension": ".py",
   "mimetype": "text/x-python",
   "name": "python",
   "nbconvert_exporter": "python",
   "pygments_lexer": "ipython3",
   "version": "3.8.5"
  },
  "latex_envs": {
   "LaTeX_envs_menu_present": true,
   "autoclose": false,
   "autocomplete": true,
   "bibliofile": "biblio.bib",
   "cite_by": "apalike",
   "current_citInitial": 1,
   "eqLabelWithNumbers": true,
   "eqNumInitial": 1,
   "hotkeys": {
    "equation": "Ctrl-E",
    "itemize": "Ctrl-I"
   },
   "labels_anchors": false,
   "latex_user_defs": false,
   "report_style_numbering": false,
   "user_envs_cfg": false
  },
  "varInspector": {
   "cols": {
    "lenName": 16,
    "lenType": 16,
    "lenVar": 40
   },
   "kernels_config": {
    "python": {
     "delete_cmd_postfix": "",
     "delete_cmd_prefix": "del ",
     "library": "var_list.py",
     "varRefreshCmd": "print(var_dic_list())"
    },
    "r": {
     "delete_cmd_postfix": ") ",
     "delete_cmd_prefix": "rm(",
     "library": "var_list.r",
     "varRefreshCmd": "cat(var_dic_list()) "
    }
   },
   "types_to_exclude": [
    "module",
    "function",
    "builtin_function_or_method",
    "instance",
    "_Feature"
   ],
   "window_display": false
  }
 },
 "nbformat": 4,
 "nbformat_minor": 4
}
